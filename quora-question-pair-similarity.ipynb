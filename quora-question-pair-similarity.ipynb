{
  "nbformat": 4,
  "nbformat_minor": 0,
  "metadata": {
    "colab": {
      "name": "github 3",
      "provenance": [],
      "collapsed_sections": [],
      "toc_visible": true
    },
    "kernelspec": {
      "display_name": "Python 3",
      "language": "python",
      "name": "python3"
    }
  },
  "cells": [
    {
      "cell_type": "markdown",
      "metadata": {
        "id": "J6rnhr2Xs5Vs"
      },
      "source": [
        "<h1 style=\"text-align:center;font-size:30px;\" > Quora Question Pairs </h1>"
      ]
    },
    {
      "cell_type": "markdown",
      "metadata": {
        "id": "0dMZDhl1SImK"
      },
      "source": [
        "##Reference:\n",
        "###1. Stackoverflow\n",
        "###2. Applied AI Course"
      ]
    },
    {
      "cell_type": "markdown",
      "metadata": {
        "id": "o9fciGc7s5Vu"
      },
      "source": [
        "<h1> Business Problem </h1>"
      ]
    },
    {
      "cell_type": "markdown",
      "metadata": {
        "id": "wdWP5SdFs5Vy"
      },
      "source": [
        "__ Problem Statement __\n",
        "- Identify which questions asked on Quora are duplicates of questions that have already been asked. \n",
        "- This could be useful to instantly provide answers to questions that have already been answered. \n",
        "- We are tasked with predicting whether a pair of questions are duplicates or not. "
      ]
    },
    {
      "cell_type": "markdown",
      "metadata": {
        "id": "jlNRUR4Ws5V5"
      },
      "source": [
        "<h2>Real world/Business Objectives and Constraints </h2>"
      ]
    },
    {
      "cell_type": "markdown",
      "metadata": {
        "id": "Hv6fd7txs5V7"
      },
      "source": [
        "1. The cost of a mis-classification can be very high.\n",
        "2. You would want a probability of a pair of questions to be duplicates so that you can choose any threshold of choice.\n",
        "3. No strict latency concerns.\n",
        "4. Interpretability is partially important."
      ]
    },
    {
      "cell_type": "markdown",
      "metadata": {
        "id": "VIam5Aaks5V9"
      },
      "source": [
        "<h1> Machine Learning Probelm </h1>"
      ]
    },
    {
      "cell_type": "markdown",
      "metadata": {
        "id": "jnty9Bhls5V-"
      },
      "source": [
        "<h2>  Data </h2>"
      ]
    },
    {
      "cell_type": "markdown",
      "metadata": {
        "id": "rty1PZv3s5V_"
      },
      "source": [
        "<h3> Data Overview </h3>"
      ]
    },
    {
      "cell_type": "markdown",
      "metadata": {
        "id": "-gu8pAt3s5WB"
      },
      "source": [
        "<p> \n",
        "- Data will be in a file Train.csv <br>\n",
        "- Train.csv contains 5 columns : qid1, qid2, question1, question2, is_duplicate <br>\n",
        "- Size of Train.csv - 60MB <br>\n",
        "- Number of rows in Train.csv = 404,290\n",
        "</p>"
      ]
    },
    {
      "cell_type": "markdown",
      "metadata": {
        "id": "v9grbSNds5WC"
      },
      "source": [
        "<h3> Example Data point </h3>"
      ]
    },
    {
      "cell_type": "markdown",
      "metadata": {
        "id": "9WEQ-lSxs5WE"
      },
      "source": [
        "<pre>\n",
        "\"id\",\"qid1\",\"qid2\",\"question1\",\"question2\",\"is_duplicate\"\n",
        "\"0\",\"1\",\"2\",\"What is the step by step guide to invest in share market in india?\",\"What is the step by step guide to invest in share market?\",\"0\"\n",
        "\"1\",\"3\",\"4\",\"What is the story of Kohinoor (Koh-i-Noor) Diamond?\",\"What would happen if the Indian government stole the Kohinoor (Koh-i-Noor) diamond back?\",\"0\"\n",
        "\"7\",\"15\",\"16\",\"How can I be a good geologist?\",\"What should I do to be a great geologist?\",\"1\"\n",
        "\"11\",\"23\",\"24\",\"How do I read and find my YouTube comments?\",\"How can I see all my Youtube comments?\",\"1\"\n",
        "</pre>"
      ]
    },
    {
      "cell_type": "markdown",
      "metadata": {
        "id": "9qPVfeEjs5WF"
      },
      "source": [
        "<h2>  Mapping the real world problem to an ML problem </h2>"
      ]
    },
    {
      "cell_type": "markdown",
      "metadata": {
        "id": "JfBn0LYPs5WI"
      },
      "source": [
        "<h3> Type of Machine Leaning Problem </h3>"
      ]
    },
    {
      "cell_type": "markdown",
      "metadata": {
        "id": "QEqiUD_Ps5WJ"
      },
      "source": [
        "<p> It is a binary classification problem, for a given pair of questions we need to predict if they are duplicate or not. </p>"
      ]
    },
    {
      "cell_type": "markdown",
      "metadata": {
        "id": "FmDMBWJjs5WO"
      },
      "source": [
        "<h2> Train and Test Construction </h2>"
      ]
    },
    {
      "cell_type": "markdown",
      "metadata": {
        "id": "l7PcvKQss5WQ"
      },
      "source": [
        "<p>  </p>\n",
        "<p> We build train and test by randomly splitting in the ratio of 70:30 or 80:20 whatever we choose as we have sufficient points to work with. </p>"
      ]
    },
    {
      "cell_type": "markdown",
      "metadata": {
        "id": "cW_MVIlps5WQ"
      },
      "source": [
        "<h1> Exploratory Data Analysis </h1>"
      ]
    },
    {
      "cell_type": "code",
      "metadata": {
        "id": "sNzZdmBJs5WS",
        "colab": {
          "base_uri": "https://localhost:8080/",
          "height": 54
        },
        "outputId": "66a27725-d234-4d39-facb-938cadcbd4a6"
      },
      "source": [
        "# import the libraries as shown below\n",
        "\n",
        "import numpy as np\n",
        "import pandas as pd\n",
        "import seaborn as sns\n",
        "import matplotlib.pyplot as plt\n",
        "from subprocess import check_output\n",
        "%matplotlib inline\n",
        "import plotly.offline as py\n",
        "py.init_notebook_mode(connected=True)\n",
        "from sklearn.model_selection import train_test_split\n",
        "import plotly.graph_objs as go\n",
        "import plotly.tools as tls\n",
        "import os\n",
        "import gc\n",
        "import re\n",
        "import nltk\n",
        "from nltk.corpus import stopwords\n",
        "nltk.download('stopwords')\n",
        "from nltk.stem import PorterStemmer\n",
        "from bs4 import BeautifulSoup\n",
        "import time\n",
        "import warnings\n",
        "from sklearn.preprocessing import normalize\n",
        "from sklearn.feature_extraction.text import CountVectorizer\n",
        "from sklearn.feature_extraction.text import TfidfVectorizer\n",
        "warnings.filterwarnings(\"ignore\")\n",
        "from tqdm import tqdm\n",
        "# exctract word2vec vectors\n",
        "# https://github.com/explosion/spaCy/issues/1721\n",
        "# http://landinghub.visualstudio.com/visual-cpp-build-tools\n",
        "import spacy\n",
        "import sqlite3\n",
        "from sqlalchemy import create_engine # database connection\n",
        "import csv\n",
        "import datetime as dt\n",
        "from sklearn.decomposition import TruncatedSVD\n",
        "from sklearn.preprocessing import normalize\n",
        "from sklearn.neighbors import KNeighborsClassifier\n",
        "from sklearn.metrics import confusion_matrix\n",
        "from sklearn.metrics.classification import accuracy_score, log_loss\n",
        "from collections import Counter\n",
        "from scipy.sparse import hstack\n",
        "from sklearn.multiclass import OneVsRestClassifier\n",
        "from sklearn.svm import SVC\n",
        "from collections import Counter, defaultdict\n",
        "from sklearn.calibration import CalibratedClassifierCV\n",
        "from sklearn.naive_bayes import MultinomialNB\n",
        "from sklearn.naive_bayes import GaussianNB\n",
        "from sklearn.model_selection import train_test_split\n",
        "from sklearn.model_selection import GridSearchCV\n",
        "import math\n",
        "from sklearn.metrics import normalized_mutual_info_score\n",
        "from sklearn.ensemble import RandomForestClassifier\n",
        "from sklearn.model_selection import cross_val_score\n",
        "from sklearn.linear_model import SGDClassifier\n",
        "from mlxtend.classifier import StackingClassifier\n",
        "from sklearn import model_selection\n",
        "from sklearn.linear_model import LogisticRegression\n",
        "from sklearn.metrics import precision_recall_curve, auc, roc_curve\n",
        "\n",
        "\n"
      ],
      "execution_count": 1,
      "outputs": [
        {
          "output_type": "display_data",
          "data": {
            "text/html": [
              "        <script type=\"text/javascript\">\n",
              "        window.PlotlyConfig = {MathJaxConfig: 'local'};\n",
              "        if (window.MathJax) {MathJax.Hub.Config({SVG: {font: \"STIX-Web\"}});}\n",
              "        if (typeof require !== 'undefined') {\n",
              "        require.undef(\"plotly\");\n",
              "        requirejs.config({\n",
              "            paths: {\n",
              "                'plotly': ['https://cdn.plot.ly/plotly-latest.min']\n",
              "            }\n",
              "        });\n",
              "        require(['plotly'], function(Plotly) {\n",
              "            window._Plotly = Plotly;\n",
              "        });\n",
              "        }\n",
              "        </script>\n",
              "        "
            ]
          },
          "metadata": {
            "tags": []
          }
        },
        {
          "output_type": "stream",
          "text": [
            "[nltk_data] Downloading package stopwords to /root/nltk_data...\n",
            "[nltk_data]   Unzipping corpora/stopwords.zip.\n"
          ],
          "name": "stdout"
        }
      ]
    },
    {
      "cell_type": "markdown",
      "metadata": {
        "id": "__T8jddGs5Wc"
      },
      "source": [
        "<h2>  Reading data and basic stats </h2>"
      ]
    },
    {
      "cell_type": "code",
      "metadata": {
        "id": "ifM_s9rvs5Wd",
        "colab": {
          "base_uri": "https://localhost:8080/"
        },
        "outputId": "904f7de6-cb61-4fe6-8578-fb70ea692660"
      },
      "source": [
        "df = pd.read_csv(\"train.txt\")\n",
        "\n",
        "print(\"Number of data points:\",df.shape[0])"
      ],
      "execution_count": null,
      "outputs": [
        {
          "output_type": "stream",
          "text": [
            "Number of data points: 17\n"
          ],
          "name": "stdout"
        }
      ]
    },
    {
      "cell_type": "code",
      "metadata": {
        "id": "34zXGW8gs5Wj",
        "colab": {
          "base_uri": "https://localhost:8080/",
          "height": 198
        },
        "outputId": "a83a78f1-4b95-4a81-a381-1dab75016e2c"
      },
      "source": [
        "df.head()"
      ],
      "execution_count": null,
      "outputs": [
        {
          "output_type": "execute_result",
          "data": {
            "text/html": [
              "<div>\n",
              "<style scoped>\n",
              "    .dataframe tbody tr th:only-of-type {\n",
              "        vertical-align: middle;\n",
              "    }\n",
              "\n",
              "    .dataframe tbody tr th {\n",
              "        vertical-align: top;\n",
              "    }\n",
              "\n",
              "    .dataframe thead th {\n",
              "        text-align: right;\n",
              "    }\n",
              "</style>\n",
              "<table border=\"1\" class=\"dataframe\">\n",
              "  <thead>\n",
              "    <tr style=\"text-align: right;\">\n",
              "      <th></th>\n",
              "      <th>id</th>\n",
              "      <th>qid1</th>\n",
              "      <th>qid2</th>\n",
              "      <th>question1</th>\n",
              "      <th>question2</th>\n",
              "      <th>is_duplicate</th>\n",
              "    </tr>\n",
              "  </thead>\n",
              "  <tbody>\n",
              "    <tr>\n",
              "      <th>0</th>\n",
              "      <td>0</td>\n",
              "      <td>1</td>\n",
              "      <td>2</td>\n",
              "      <td>What is the step by step guide to invest in sh...</td>\n",
              "      <td>What is the step by step guide to invest in sh...</td>\n",
              "      <td>0</td>\n",
              "    </tr>\n",
              "    <tr>\n",
              "      <th>1</th>\n",
              "      <td>1</td>\n",
              "      <td>3</td>\n",
              "      <td>4</td>\n",
              "      <td>What is the story of Kohinoor (Koh-i-Noor) Dia...</td>\n",
              "      <td>What would happen if the Indian government sto...</td>\n",
              "      <td>0</td>\n",
              "    </tr>\n",
              "    <tr>\n",
              "      <th>2</th>\n",
              "      <td>2</td>\n",
              "      <td>5</td>\n",
              "      <td>6</td>\n",
              "      <td>How can I increase the speed of my internet co...</td>\n",
              "      <td>How can Internet speed be increased by hacking...</td>\n",
              "      <td>0</td>\n",
              "    </tr>\n",
              "    <tr>\n",
              "      <th>3</th>\n",
              "      <td>3</td>\n",
              "      <td>7</td>\n",
              "      <td>8</td>\n",
              "      <td>Why am I mentally very lonely? How can I solve...</td>\n",
              "      <td>Find the remainder when [math]23^{24}[/math] i...</td>\n",
              "      <td>0</td>\n",
              "    </tr>\n",
              "    <tr>\n",
              "      <th>4</th>\n",
              "      <td>4</td>\n",
              "      <td>9</td>\n",
              "      <td>10</td>\n",
              "      <td>Which one dissolve in water quikly sugar, salt...</td>\n",
              "      <td>Which fish would survive in salt water?</td>\n",
              "      <td>0</td>\n",
              "    </tr>\n",
              "  </tbody>\n",
              "</table>\n",
              "</div>"
            ],
            "text/plain": [
              "   id  qid1  ...                                          question2 is_duplicate\n",
              "0   0     1  ...  What is the step by step guide to invest in sh...            0\n",
              "1   1     3  ...  What would happen if the Indian government sto...            0\n",
              "2   2     5  ...  How can Internet speed be increased by hacking...            0\n",
              "3   3     7  ...  Find the remainder when [math]23^{24}[/math] i...            0\n",
              "4   4     9  ...            Which fish would survive in salt water?            0\n",
              "\n",
              "[5 rows x 6 columns]"
            ]
          },
          "metadata": {
            "tags": []
          },
          "execution_count": 7
        }
      ]
    },
    {
      "cell_type": "code",
      "metadata": {
        "id": "mx4DFwMns5Wp",
        "colab": {
          "base_uri": "https://localhost:8080/"
        },
        "outputId": "78f04538-3c0f-47ac-b024-1da139d7a8f1"
      },
      "source": [
        "df.info()"
      ],
      "execution_count": null,
      "outputs": [
        {
          "output_type": "stream",
          "text": [
            "<class 'pandas.core.frame.DataFrame'>\n",
            "RangeIndex: 17 entries, 0 to 16\n",
            "Data columns (total 6 columns):\n",
            " #   Column        Non-Null Count  Dtype \n",
            "---  ------        --------------  ----- \n",
            " 0   id            17 non-null     int64 \n",
            " 1   qid1          17 non-null     int64 \n",
            " 2   qid2          17 non-null     int64 \n",
            " 3   question1     16 non-null     object\n",
            " 4   question2     16 non-null     object\n",
            " 5   is_duplicate  17 non-null     int64 \n",
            "dtypes: int64(4), object(2)\n",
            "memory usage: 944.0+ bytes\n"
          ],
          "name": "stdout"
        }
      ]
    },
    {
      "cell_type": "markdown",
      "metadata": {
        "id": "HHHTGTzws5Ww"
      },
      "source": [
        "We are given a minimal number of data fields here, consisting of:\n",
        "\n",
        "- id:  Looks like a simple rowID\n",
        "- qid{1, 2}:  The unique ID of each question in the pair\n",
        "- question{1, 2}:  The actual textual contents of the questions.\n",
        "- is_duplicate:  The label that we are trying to predict - whether the two questions are duplicates of each other."
      ]
    },
    {
      "cell_type": "markdown",
      "metadata": {
        "id": "ZulqVzTDs5Wx"
      },
      "source": [
        "<h3> Distribution of data points among output classes</h3>\n",
        "- Number of duplicate(smilar) and non-duplicate(non similar) questions"
      ]
    },
    {
      "cell_type": "code",
      "metadata": {
        "id": "YHp64yNjs5Wx",
        "colab": {
          "base_uri": "https://localhost:8080/",
          "height": 295
        },
        "outputId": "5ebbcc6a-9dd6-4089-934f-85c0d9b7d8a6"
      },
      "source": [
        "df.groupby(\"is_duplicate\")['id'].count().plot.bar()"
      ],
      "execution_count": null,
      "outputs": [
        {
          "output_type": "execute_result",
          "data": {
            "text/plain": [
              "<matplotlib.axes._subplots.AxesSubplot at 0x7f89f0fdef28>"
            ]
          },
          "metadata": {
            "tags": []
          },
          "execution_count": 9
        },
        {
          "output_type": "display_data",
          "data": {
            "image/png": "[encoded data removed]",
            "text/plain": [
              "<Figure size 432x288 with 1 Axes>"
            ]
          },
          "metadata": {
            "tags": [],
            "needs_background": "light"
          }
        }
      ]
    },
    {
      "cell_type": "code",
      "metadata": {
        "id": "-usI2K2bs5W4",
        "colab": {
          "base_uri": "https://localhost:8080/"
        },
        "outputId": "6a64e115-206d-473e-c9dd-3a1021920430"
      },
      "source": [
        "print('Total number of question pairs for training:{}'.format(len(df)))"
      ],
      "execution_count": null,
      "outputs": [
        {
          "output_type": "stream",
          "text": [
            "Total number of question pairs for training:17\n"
          ],
          "name": "stdout"
        }
      ]
    },
    {
      "cell_type": "code",
      "metadata": {
        "id": "YiPia6Pjs5W_",
        "colab": {
          "base_uri": "https://localhost:8080/"
        },
        "outputId": "0079850f-c1db-4b6f-d445-a0612fb79aac"
      },
      "source": [
        "print('Question pairs are not Similar (is_duplicate = 0):{}%'.format(100 - round(df['is_duplicate'].mean()*100, 2)))\n",
        "print('Question pairs are Similar (is_duplicate = 1):{}%'.format(round(df['is_duplicate'].mean()*100, 2)))"
      ],
      "execution_count": null,
      "outputs": [
        {
          "output_type": "stream",
          "text": [
            "Question pairs are not Similar (is_duplicate = 0):64.71000000000001%\n",
            "Question pairs are Similar (is_duplicate = 1):35.29%\n"
          ],
          "name": "stdout"
        }
      ]
    },
    {
      "cell_type": "markdown",
      "metadata": {
        "id": "wGX03QVRs5XF"
      },
      "source": [
        "<h3> Number of unique questions </h3>"
      ]
    },
    {
      "cell_type": "code",
      "metadata": {
        "id": "VOKa6aU2s5XG",
        "colab": {
          "base_uri": "https://localhost:8080/"
        },
        "outputId": "4fd1a39f-5af2-4e29-ef82-09ff62af7b60"
      },
      "source": [
        "ques_ids = pd.Series(df['qid1'].tolist() + df['qid2'].tolist())\n",
        "unique_ques = len(np.unique(ques_ids))\n",
        "ques_morethan_onetime = np.sum(ques_ids.value_counts() > 1)\n",
        "print ('Total number of  Unique Questions are: {}'.format(unique_ques))\n",
        "\n",
        "print ('Number of unique questions that appear more than one time: {} ({}%)'.format(ques_morethan_onetime,ques_morethan_onetime/unique_ques*100))\n",
        "\n",
        "print ('Max number of times a single question is repeated: {}'.format(max(ques_ids.value_counts()))) \n",
        "\n",
        "q_vals=ques_ids.value_counts()\n",
        "\n",
        "q_vals=q_vals.values"
      ],
      "execution_count": null,
      "outputs": [
        {
          "output_type": "stream",
          "text": [
            "Total number of  Unique Questions are: 34\n",
            "Number of unique questions that appear more than one time: 0 (0.0%)\n",
            "Max number of times a single question is repeated: 1\n"
          ],
          "name": "stdout"
        }
      ]
    },
    {
      "cell_type": "code",
      "metadata": {
        "id": "plcvbd4Cs5XM",
        "colab": {
          "base_uri": "https://localhost:8080/",
          "height": 390
        },
        "outputId": "88f69d52-fcbf-4f3e-9d95-d4d1dcd0633a"
      },
      "source": [
        "\n",
        "x = [\"unique questions\" , \"Repeated Questions\"]\n",
        "y =  [unique_ques , ques_morethan_onetime]\n",
        "\n",
        "plt.figure(figsize=(10, 6))\n",
        "plt.title (\"Plot representing unique and repeated questions  \")\n",
        "sns.barplot(x,y)\n",
        "plt.show()"
      ],
      "execution_count": null,
      "outputs": [
        {
          "output_type": "display_data",
          "data": {
            "image/png": "[encoded data removed]",
            "text/plain": [
              "<Figure size 720x432 with 1 Axes>"
            ]
          },
          "metadata": {
            "tags": [],
            "needs_background": "light"
          }
        }
      ]
    },
    {
      "cell_type": "markdown",
      "metadata": {
        "id": "G-CwGaMms5XS"
      },
      "source": [
        "<h3> Checking for Duplicates </h3>"
      ]
    },
    {
      "cell_type": "code",
      "metadata": {
        "id": "YCiDBHm5s5XT",
        "colab": {
          "base_uri": "https://localhost:8080/"
        },
        "outputId": "c42ddfdc-9878-4238-828e-0f75a7c6e156"
      },
      "source": [
        "#checking whether there are any repeated pair of questions\n",
        "\n",
        "pair_duplicates = df[['qid1','qid2','is_duplicate']].groupby(['qid1','qid2']).count().reset_index()\n",
        "\n",
        "print (\"Number of duplicate questions\",df.shape[0] - (pair_duplicates).shape[0])"
      ],
      "execution_count": null,
      "outputs": [
        {
          "output_type": "stream",
          "text": [
            "Number of duplicate questions 0\n"
          ],
          "name": "stdout"
        }
      ]
    },
    {
      "cell_type": "markdown",
      "metadata": {
        "id": "iaHTnnt8s5XX"
      },
      "source": [
        "<h3> Number of occurrences of each question </h3>"
      ]
    },
    {
      "cell_type": "code",
      "metadata": {
        "id": "dPZwk-C8s5Xa",
        "colab": {
          "base_uri": "https://localhost:8080/",
          "height": 614
        },
        "outputId": "dd431e67-969d-49bf-d012-bf06e65f614b"
      },
      "source": [
        "plt.figure(figsize=(20, 10))\n",
        "\n",
        "plt.hist(ques_ids.value_counts(), bins=160)\n",
        "\n",
        "plt.yscale('log', nonposy='clip')\n",
        "\n",
        "plt.title('Log-Histogram of question appearance counts')\n",
        "\n",
        "plt.xlabel('Number of occurences of question')\n",
        "\n",
        "plt.ylabel('Number of questions')\n",
        "\n",
        "print ('Maximum number of times a single question is repeated: {}'.format(max(ques_ids.value_counts()))) "
      ],
      "execution_count": null,
      "outputs": [
        {
          "output_type": "stream",
          "text": [
            "Maximum number of times a single question is repeated: 1\n"
          ],
          "name": "stdout"
        },
        {
          "output_type": "display_data",
          "data": {
            "image/png": "[encoded data removed]",
            "text/plain": [
              "<Figure size 1440x720 with 1 Axes>"
            ]
          },
          "metadata": {
            "tags": [],
            "needs_background": "light"
          }
        }
      ]
    },
    {
      "cell_type": "markdown",
      "metadata": {
        "id": "h_WdYxlYs5Xj"
      },
      "source": [
        "<h3> Checking for NULL values </h3>"
      ]
    },
    {
      "cell_type": "code",
      "metadata": {
        "id": "r0x1gR2fs5Xk",
        "colab": {
          "base_uri": "https://localhost:8080/",
          "height": 48
        },
        "outputId": "7d2369dc-db71-469a-abb0-5fb5093ad0cd"
      },
      "source": [
        "#Checking whether there are any rows with null values\n",
        "nan_rows = df[df.isnull().any(1)]\n",
        "nan_rows"
      ],
      "execution_count": null,
      "outputs": [
        {
          "output_type": "execute_result",
          "data": {
            "text/html": [
              "<div>\n",
              "<style scoped>\n",
              "    .dataframe tbody tr th:only-of-type {\n",
              "        vertical-align: middle;\n",
              "    }\n",
              "\n",
              "    .dataframe tbody tr th {\n",
              "        vertical-align: top;\n",
              "    }\n",
              "\n",
              "    .dataframe thead th {\n",
              "        text-align: right;\n",
              "    }\n",
              "</style>\n",
              "<table border=\"1\" class=\"dataframe\">\n",
              "  <thead>\n",
              "    <tr style=\"text-align: right;\">\n",
              "      <th></th>\n",
              "      <th>freq_qid1</th>\n",
              "      <th>freq_qid2</th>\n",
              "      <th>q1len</th>\n",
              "      <th>q2len</th>\n",
              "      <th>q1_n_words</th>\n",
              "      <th>q2_n_words</th>\n",
              "      <th>word_Common</th>\n",
              "      <th>word_Total</th>\n",
              "      <th>word_share</th>\n",
              "      <th>freq_q1+q2</th>\n",
              "      <th>freq_q1-q2</th>\n",
              "    </tr>\n",
              "  </thead>\n",
              "  <tbody>\n",
              "  </tbody>\n",
              "</table>\n",
              "</div>"
            ],
            "text/plain": [
              "Empty DataFrame\n",
              "Columns: [freq_qid1, freq_qid2, q1len, q2len, q1_n_words, q2_n_words, word_Common, word_Total, word_share, freq_q1+q2, freq_q1-q2]\n",
              "Index: []"
            ]
          },
          "metadata": {
            "tags": []
          },
          "execution_count": 129
        }
      ]
    },
    {
      "cell_type": "markdown",
      "metadata": {
        "id": "CCYmufv6s5Xo"
      },
      "source": [
        "- There are three rows with null values in question2 "
      ]
    },
    {
      "cell_type": "code",
      "metadata": {
        "id": "yLBRyACgs5Xp"
      },
      "source": [
        "# Filling the null values with ' '\n",
        "df = df.dropna() \n"
      ],
      "execution_count": null,
      "outputs": []
    },
    {
      "cell_type": "markdown",
      "metadata": {
        "id": "l9Qcl5xfs5Xs"
      },
      "source": [
        "<h2>Basic Feature Extraction (before cleaning) </h2>"
      ]
    },
    {
      "cell_type": "markdown",
      "metadata": {
        "id": "RRzvPYzGs5Xu"
      },
      "source": [
        "Let us now construct a few features like:\n",
        " - ____freq_qid1____ = Frequency of qid1's\n",
        " - ____freq_qid2____ = Frequency of qid2's \n",
        " - ____q1len____ = Length of q1\n",
        " - ____q2len____ = Length of q2\n",
        " - ____q1_n_words____ = Number of words in Question 1\n",
        " - ____q2_n_words____ = Number of words in Question 2\n",
        " - ____word_Common____ = (Number of common unique words in Question 1 and Question 2)\n",
        " - ____word_Total____ =(Total num of words in Question 1 + Total num of words in Question 2)\n",
        " - ____word_share____ = (word_common)/(word_Total)\n",
        " - ____freq_q1+freq_q2____ = sum total of frequency of qid1 and qid2 \n",
        " - ____freq_q1-freq_q2____ = absolute difference of frequency of qid1 and qid2 "
      ]
    },
    {
      "cell_type": "code",
      "metadata": {
        "id": "Iq4DZ-rYs5Xv",
        "colab": {
          "base_uri": "https://localhost:8080/",
          "height": 650
        },
        "outputId": "faeac4b3-c8d8-4a09-87f4-bed0fbc4ee15"
      },
      "source": [
        "if os.path.isfile('df_fe_without_preprocessing_train.csv'):\n",
        "    df = pd.read_csv(\"df_fe_without_preprocessing_train.csv\",encoding='latin-1')\n",
        "else:\n",
        "    df['freq_qid1'] = df.groupby('qid1')['qid1'].transform('count') \n",
        "    df['freq_qid2'] = df.groupby('qid2')['qid2'].transform('count')\n",
        "    df['q1len'] = df['question1'].str.len() \n",
        "    df['q2len'] = df['question2'].str.len()\n",
        "    df['q1_n_words'] = df['question1'].apply(lambda row: len(row.split(\" \")))\n",
        "    df['q2_n_words'] = df['question2'].apply(lambda row: len(row.split(\" \")))\n",
        "\n",
        "    def normalized_word_Common(row):\n",
        "        w1 = set(map(lambda word: word.lower().strip(), row['question1'].split(\" \")))\n",
        "        w2 = set(map(lambda word: word.lower().strip(), row['question2'].split(\" \")))    \n",
        "        return 1.0 * len(w1 & w2)\n",
        "    df['word_Common'] = df.apply(normalized_word_Common, axis=1)\n",
        "\n",
        "    def normalized_word_Total(row):\n",
        "        w1 = set(map(lambda word: word.lower().strip(), row['question1'].split(\" \")))\n",
        "        w2 = set(map(lambda word: word.lower().strip(), row['question2'].split(\" \")))    \n",
        "        return 1.0 * (len(w1) + len(w2))\n",
        "    df['word_Total'] = df.apply(normalized_word_Total, axis=1)\n",
        "\n",
        "    def normalized_word_share(row):\n",
        "        w1 = set(map(lambda word: word.lower().strip(), row['question1'].split(\" \")))\n",
        "        w2 = set(map(lambda word: word.lower().strip(), row['question2'].split(\" \")))    \n",
        "        return 1.0 * len(w1 & w2)/(len(w1) + len(w2))\n",
        "    df['word_share'] = df.apply(normalized_word_share, axis=1)\n",
        "\n",
        "    df['freq_q1+q2'] = df['freq_qid1']+df['freq_qid2']\n",
        "    df['freq_q1-q2'] = abs(df['freq_qid1']-df['freq_qid2'])\n",
        "\n",
        "    df.to_csv(\"df_fe_without_preprocessing_train.csv\", index=False)\n",
        "\n",
        "df.head()"
      ],
      "execution_count": null,
      "outputs": [
        {
          "output_type": "execute_result",
          "data": {
            "text/html": [
              "<div>\n",
              "<style scoped>\n",
              "    .dataframe tbody tr th:only-of-type {\n",
              "        vertical-align: middle;\n",
              "    }\n",
              "\n",
              "    .dataframe tbody tr th {\n",
              "        vertical-align: top;\n",
              "    }\n",
              "\n",
              "    .dataframe thead th {\n",
              "        text-align: right;\n",
              "    }\n",
              "</style>\n",
              "<table border=\"1\" class=\"dataframe\">\n",
              "  <thead>\n",
              "    <tr style=\"text-align: right;\">\n",
              "      <th></th>\n",
              "      <th>id</th>\n",
              "      <th>qid1</th>\n",
              "      <th>qid2</th>\n",
              "      <th>question1</th>\n",
              "      <th>question2</th>\n",
              "      <th>is_duplicate</th>\n",
              "      <th>freq_qid1</th>\n",
              "      <th>freq_qid2</th>\n",
              "      <th>q1len</th>\n",
              "      <th>q2len</th>\n",
              "      <th>q1_n_words</th>\n",
              "      <th>q2_n_words</th>\n",
              "      <th>word_Common</th>\n",
              "      <th>word_Total</th>\n",
              "      <th>word_share</th>\n",
              "      <th>freq_q1+q2</th>\n",
              "      <th>freq_q1-q2</th>\n",
              "    </tr>\n",
              "  </thead>\n",
              "  <tbody>\n",
              "    <tr>\n",
              "      <th>0</th>\n",
              "      <td>0</td>\n",
              "      <td>1</td>\n",
              "      <td>2</td>\n",
              "      <td>What is the step by step guide to invest in sh...</td>\n",
              "      <td>What is the step by step guide to invest in sh...</td>\n",
              "      <td>0</td>\n",
              "      <td>1</td>\n",
              "      <td>1</td>\n",
              "      <td>66</td>\n",
              "      <td>57</td>\n",
              "      <td>14</td>\n",
              "      <td>12</td>\n",
              "      <td>10.0</td>\n",
              "      <td>23.0</td>\n",
              "      <td>0.434783</td>\n",
              "      <td>2</td>\n",
              "      <td>0</td>\n",
              "    </tr>\n",
              "    <tr>\n",
              "      <th>1</th>\n",
              "      <td>1</td>\n",
              "      <td>3</td>\n",
              "      <td>4</td>\n",
              "      <td>What is the story of Kohinoor (Koh-i-Noor) Dia...</td>\n",
              "      <td>What would happen if the Indian government sto...</td>\n",
              "      <td>0</td>\n",
              "      <td>1</td>\n",
              "      <td>1</td>\n",
              "      <td>51</td>\n",
              "      <td>88</td>\n",
              "      <td>8</td>\n",
              "      <td>13</td>\n",
              "      <td>4.0</td>\n",
              "      <td>20.0</td>\n",
              "      <td>0.200000</td>\n",
              "      <td>2</td>\n",
              "      <td>0</td>\n",
              "    </tr>\n",
              "    <tr>\n",
              "      <th>2</th>\n",
              "      <td>2</td>\n",
              "      <td>5</td>\n",
              "      <td>6</td>\n",
              "      <td>How can I increase the speed of my internet co...</td>\n",
              "      <td>How can Internet speed be increased by hacking...</td>\n",
              "      <td>0</td>\n",
              "      <td>1</td>\n",
              "      <td>1</td>\n",
              "      <td>73</td>\n",
              "      <td>59</td>\n",
              "      <td>14</td>\n",
              "      <td>10</td>\n",
              "      <td>4.0</td>\n",
              "      <td>24.0</td>\n",
              "      <td>0.166667</td>\n",
              "      <td>2</td>\n",
              "      <td>0</td>\n",
              "    </tr>\n",
              "    <tr>\n",
              "      <th>3</th>\n",
              "      <td>3</td>\n",
              "      <td>7</td>\n",
              "      <td>8</td>\n",
              "      <td>Why am I mentally very lonely? How can I solve...</td>\n",
              "      <td>Find the remainder when [math]23^{24}[/math] i...</td>\n",
              "      <td>0</td>\n",
              "      <td>1</td>\n",
              "      <td>1</td>\n",
              "      <td>50</td>\n",
              "      <td>65</td>\n",
              "      <td>11</td>\n",
              "      <td>9</td>\n",
              "      <td>0.0</td>\n",
              "      <td>19.0</td>\n",
              "      <td>0.000000</td>\n",
              "      <td>2</td>\n",
              "      <td>0</td>\n",
              "    </tr>\n",
              "    <tr>\n",
              "      <th>4</th>\n",
              "      <td>4</td>\n",
              "      <td>9</td>\n",
              "      <td>10</td>\n",
              "      <td>Which one dissolve in water quikly sugar, salt...</td>\n",
              "      <td>Which fish would survive in salt water?</td>\n",
              "      <td>0</td>\n",
              "      <td>1</td>\n",
              "      <td>1</td>\n",
              "      <td>76</td>\n",
              "      <td>39</td>\n",
              "      <td>13</td>\n",
              "      <td>7</td>\n",
              "      <td>2.0</td>\n",
              "      <td>20.0</td>\n",
              "      <td>0.100000</td>\n",
              "      <td>2</td>\n",
              "      <td>0</td>\n",
              "    </tr>\n",
              "  </tbody>\n",
              "</table>\n",
              "</div>"
            ],
            "text/plain": [
              "   id  qid1  qid2  ... word_share freq_q1+q2  freq_q1-q2\n",
              "0   0     1     2  ...   0.434783          2           0\n",
              "1   1     3     4  ...   0.200000          2           0\n",
              "2   2     5     6  ...   0.166667          2           0\n",
              "3   3     7     8  ...   0.000000          2           0\n",
              "4   4     9    10  ...   0.100000          2           0\n",
              "\n",
              "[5 rows x 17 columns]"
            ]
          },
          "metadata": {
            "tags": []
          },
          "execution_count": 131
        }
      ]
    },
    {
      "cell_type": "code",
      "metadata": {
        "id": "3APLyZQHEnCS"
      },
      "source": [
        ""
      ],
      "execution_count": null,
      "outputs": []
    },
    {
      "cell_type": "markdown",
      "metadata": {
        "id": "-zLujovVs5X3"
      },
      "source": [
        "<h3> Analysis of some of the extracted features </h3>"
      ]
    },
    {
      "cell_type": "markdown",
      "metadata": {
        "id": "zRIFQTkCs5X3"
      },
      "source": [
        "- Here are some questions have only one single words."
      ]
    },
    {
      "cell_type": "code",
      "metadata": {
        "id": "jSS0X82Ds5X5",
        "colab": {
          "base_uri": "https://localhost:8080/"
        },
        "outputId": "4874f1c2-692b-4260-faec-20ed5c2ca718"
      },
      "source": [
        "print (\"Minimum length of the questions in question1 : \" , min(df['q1_n_words']))\n",
        "\n",
        "print (\"Minimum length of the questions in question2 : \" , min(df['q2_n_words']))\n",
        "\n",
        "print (\"Number of Questions with minimum length [question1] :\", df[df['q1_n_words']== 1].shape[0])\n",
        "print (\"Number of Questions with minimum length [question2] :\", df[df['q2_n_words']== 1].shape[0])"
      ],
      "execution_count": null,
      "outputs": [
        {
          "output_type": "stream",
          "text": [
            "Minimum length of the questions in question1 :  4\n",
            "Minimum length of the questions in question2 :  6\n",
            "Number of Questions with minimum length [question1] : 0\n",
            "Number of Questions with minimum length [question2] : 0\n"
          ],
          "name": "stdout"
        }
      ]
    },
    {
      "cell_type": "markdown",
      "metadata": {
        "id": "kFzTIHW3s5YB"
      },
      "source": [
        "<h4>Feature: word_share </h4>"
      ]
    },
    {
      "cell_type": "code",
      "metadata": {
        "id": "s4rwGLFDs5YD",
        "colab": {
          "base_uri": "https://localhost:8080/",
          "height": 498
        },
        "outputId": "9e6b70b2-e2a5-4876-da2d-88e9679d9f50"
      },
      "source": [
        "plt.figure(figsize=(12, 8))\n",
        "\n",
        "plt.subplot(1,2,1)\n",
        "sns.violinplot(x = 'is_duplicate', y = 'word_share', data = df[0:])\n",
        "\n",
        "plt.subplot(1,2,2)\n",
        "sns.distplot(df[df['is_duplicate'] == 1.0]['word_share'][0:] , label = \"1\", color = 'red')\n",
        "sns.distplot(df[df['is_duplicate'] == 0.0]['word_share'][0:] , label = \"0\" , color = 'blue' )\n",
        "plt.show()"
      ],
      "execution_count": null,
      "outputs": [
        {
          "output_type": "display_data",
          "data": {
            "image/png": "[encoded data removed]",
            "text/plain": [
              "<Figure size 864x576 with 2 Axes>"
            ]
          },
          "metadata": {
            "tags": [],
            "needs_background": "light"
          }
        }
      ]
    },
    {
      "cell_type": "markdown",
      "metadata": {
        "id": "RcwMI4xps5YJ"
      },
      "source": [
        "- The distributions for normalized word_share have some overlap on the far right-hand side, i.e., there are quite a lot of questions with high word similarity\n",
        "- The average word share and Common no. of words of qid1 and qid2 is more when they are duplicate(Similar)"
      ]
    },
    {
      "cell_type": "markdown",
      "metadata": {
        "id": "K0AbOS65s5YL"
      },
      "source": [
        "<h4> Feature: word_Common </h4>"
      ]
    },
    {
      "cell_type": "code",
      "metadata": {
        "id": "_mCFvztcs5YM",
        "colab": {
          "base_uri": "https://localhost:8080/",
          "height": 498
        },
        "outputId": "b2982a4f-2a14-4116-8a0f-eda0be778353"
      },
      "source": [
        "plt.figure(figsize=(12, 8))\n",
        "\n",
        "plt.subplot(1,2,1)\n",
        "sns.violinplot(x = 'is_duplicate', y = 'word_Common', data = df[0:])\n",
        "\n",
        "plt.subplot(1,2,2)\n",
        "sns.distplot(df[df['is_duplicate'] == 1.0]['word_Common'][0:] , label = \"1\", color = 'red')\n",
        "sns.distplot(df[df['is_duplicate'] == 0.0]['word_Common'][0:] , label = \"0\" , color = 'blue' )\n",
        "plt.show()"
      ],
      "execution_count": null,
      "outputs": [
        {
          "output_type": "display_data",
          "data": {
            "image/png": "[encoded data removed]",
            "text/plain": [
              "<Figure size 864x576 with 2 Axes>"
            ]
          },
          "metadata": {
            "tags": [],
            "needs_background": "light"
          }
        }
      ]
    },
    {
      "cell_type": "markdown",
      "metadata": {
        "id": "9Ej1ouEVs5YR"
      },
      "source": [
        "<p> The distributions of the word_Common feature in similar and non-similar questions are highly overlapping </p>"
      ]
    },
    {
      "cell_type": "code",
      "metadata": {
        "id": "rOuxSDKts6IQ",
        "colab": {
          "base_uri": "https://localhost:8080/",
          "height": 550
        },
        "outputId": "362fcf8c-0395-4fd4-dae7-697f593883e6"
      },
      "source": [
        "n = df.shape[0]\n",
        "sns.pairplot(df[['word_Common', 'word_Total', 'word_share', 'is_duplicate']][0:n], hue='is_duplicate', vars=['word_Common', 'word_Total', 'word_share'])\n",
        "plt.show()"
      ],
      "execution_count": null,
      "outputs": [
        {
          "output_type": "display_data",
          "data": {
            "image/png": "[encoded data removed]",
            "text/plain": [
              "<Figure size 607.5x540 with 12 Axes>"
            ]
          },
          "metadata": {
            "tags": [],
            "needs_background": "light"
          }
        }
      ]
    },
    {
      "cell_type": "code",
      "metadata": {
        "id": "M52XmYnNs6Hx",
        "colab": {
          "base_uri": "https://localhost:8080/"
        },
        "outputId": "6f9a2d06-9538-4a29-aa27-72ad12744acb"
      },
      "source": [
        "df_duplicate = df[df['is_duplicate'] == 1]\n",
        "df_nonduplicate = df[df['is_duplicate'] == 0]\n",
        "\n",
        "print (\"Number of data points in class 1 (duplicate pairs) :\",len(df_duplicate))\n",
        "print (\"Number of data points in class 0 (non duplicate pairs) :\",len(df_nonduplicate))\n"
      ],
      "execution_count": null,
      "outputs": [
        {
          "output_type": "stream",
          "text": [
            "Number of data points in class 1 (duplicate pairs) : 6\n",
            "Number of data points in class 0 (non duplicate pairs) : 10\n"
          ],
          "name": "stdout"
        }
      ]
    },
    {
      "cell_type": "markdown",
      "metadata": {
        "id": "TWQAzMyWs6HU"
      },
      "source": [
        "<h2>Preprocessing of Text </h2>"
      ]
    },
    {
      "cell_type": "markdown",
      "metadata": {
        "id": "P2_6a1Ils6HV"
      },
      "source": [
        "- Preprocessing:\n",
        "    - Removing html tags \n",
        "    - Removing Punctuations\n",
        "    - Performing stemming\n",
        "    - Removing Stopwords\n",
        "    - Expanding contractions etc."
      ]
    },
    {
      "cell_type": "code",
      "metadata": {
        "id": "jgE3QuLws6HW"
      },
      "source": [
        "# To get the results in 4 decemal points\n",
        "SAFE_DIV = 0.0001 \n",
        "\n",
        "STOP_WORDS = stopwords.words(\"english\")\n",
        "\n",
        "\n",
        "def preprocess(x):\n",
        "    x = str(x).lower()\n",
        "    x = x.replace(\",000,000\", \"m\").replace(\",000\", \"k\").replace(\"′\", \"'\").replace(\"’\", \"'\")\\\n",
        "                           .replace(\"won't\", \"will not\").replace(\"cannot\", \"can not\").replace(\"can't\", \"can not\")\\\n",
        "                           .replace(\"n't\", \" not\").replace(\"what's\", \"what is\").replace(\"it's\", \"it is\")\\\n",
        "                           .replace(\"'ve\", \" have\").replace(\"i'm\", \"i am\").replace(\"'re\", \" are\")\\\n",
        "                           .replace(\"he's\", \"he is\").replace(\"she's\", \"she is\").replace(\"'s\", \" own\")\\\n",
        "                           .replace(\"%\", \" percent \").replace(\"₹\", \" rupee \").replace(\"$\", \" dollar \")\\\n",
        "                           .replace(\"€\", \" euro \").replace(\"'ll\", \" will\")\n",
        "    x = re.sub(r\"([0-9]+)000000\", r\"\\1m\", x)\n",
        "    x = re.sub(r\"([0-9]+)000\", r\"\\1k\", x)\n",
        "    \n",
        "    \n",
        "    porter = PorterStemmer()\n",
        "    pattern = re.compile('\\W')\n",
        "    \n",
        "    if type(x) == type(''):\n",
        "        x = re.sub(pattern, ' ', x)\n",
        "    \n",
        "    \n",
        "    if type(x) == type(''):\n",
        "        x = porter.stem(x)\n",
        "        example1 = BeautifulSoup(x)\n",
        "        x = example1.get_text()\n",
        "               \n",
        "    \n",
        "    return x\n",
        "    "
      ],
      "execution_count": null,
      "outputs": []
    },
    {
      "cell_type": "markdown",
      "metadata": {
        "id": "MRP-fAQedMTd"
      },
      "source": [
        "<h2> Featurizing text data with tfidf weighted word-vectors </h2>"
      ]
    },
    {
      "cell_type": "code",
      "metadata": {
        "id": "j5XNgVyLdMT7"
      },
      "source": [
        "df['question1'] = df['question1'].apply(lambda x: str(x))\n",
        "df['question2'] = df['question2'].apply(lambda x: str(x))"
      ],
      "execution_count": null,
      "outputs": []
    },
    {
      "cell_type": "code",
      "metadata": {
        "id": "HbiMFpgRdMUJ",
        "colab": {
          "base_uri": "https://localhost:8080/",
          "height": 650
        },
        "outputId": "bbba3841-05ff-44cf-cd22-70ecc3a504cd"
      },
      "source": [
        "df.head()"
      ],
      "execution_count": null,
      "outputs": [
        {
          "output_type": "execute_result",
          "data": {
            "text/html": [
              "<div>\n",
              "<style scoped>\n",
              "    .dataframe tbody tr th:only-of-type {\n",
              "        vertical-align: middle;\n",
              "    }\n",
              "\n",
              "    .dataframe tbody tr th {\n",
              "        vertical-align: top;\n",
              "    }\n",
              "\n",
              "    .dataframe thead th {\n",
              "        text-align: right;\n",
              "    }\n",
              "</style>\n",
              "<table border=\"1\" class=\"dataframe\">\n",
              "  <thead>\n",
              "    <tr style=\"text-align: right;\">\n",
              "      <th></th>\n",
              "      <th>id</th>\n",
              "      <th>qid1</th>\n",
              "      <th>qid2</th>\n",
              "      <th>question1</th>\n",
              "      <th>question2</th>\n",
              "      <th>is_duplicate</th>\n",
              "      <th>freq_qid1</th>\n",
              "      <th>freq_qid2</th>\n",
              "      <th>q1len</th>\n",
              "      <th>q2len</th>\n",
              "      <th>q1_n_words</th>\n",
              "      <th>q2_n_words</th>\n",
              "      <th>word_Common</th>\n",
              "      <th>word_Total</th>\n",
              "      <th>word_share</th>\n",
              "      <th>freq_q1+q2</th>\n",
              "      <th>freq_q1-q2</th>\n",
              "    </tr>\n",
              "  </thead>\n",
              "  <tbody>\n",
              "    <tr>\n",
              "      <th>0</th>\n",
              "      <td>0</td>\n",
              "      <td>1</td>\n",
              "      <td>2</td>\n",
              "      <td>What is the step by step guide to invest in sh...</td>\n",
              "      <td>What is the step by step guide to invest in sh...</td>\n",
              "      <td>0</td>\n",
              "      <td>1</td>\n",
              "      <td>1</td>\n",
              "      <td>66</td>\n",
              "      <td>57</td>\n",
              "      <td>14</td>\n",
              "      <td>12</td>\n",
              "      <td>10.0</td>\n",
              "      <td>23.0</td>\n",
              "      <td>0.434783</td>\n",
              "      <td>2</td>\n",
              "      <td>0</td>\n",
              "    </tr>\n",
              "    <tr>\n",
              "      <th>1</th>\n",
              "      <td>1</td>\n",
              "      <td>3</td>\n",
              "      <td>4</td>\n",
              "      <td>What is the story of Kohinoor (Koh-i-Noor) Dia...</td>\n",
              "      <td>What would happen if the Indian government sto...</td>\n",
              "      <td>0</td>\n",
              "      <td>1</td>\n",
              "      <td>1</td>\n",
              "      <td>51</td>\n",
              "      <td>88</td>\n",
              "      <td>8</td>\n",
              "      <td>13</td>\n",
              "      <td>4.0</td>\n",
              "      <td>20.0</td>\n",
              "      <td>0.200000</td>\n",
              "      <td>2</td>\n",
              "      <td>0</td>\n",
              "    </tr>\n",
              "    <tr>\n",
              "      <th>2</th>\n",
              "      <td>2</td>\n",
              "      <td>5</td>\n",
              "      <td>6</td>\n",
              "      <td>How can I increase the speed of my internet co...</td>\n",
              "      <td>How can Internet speed be increased by hacking...</td>\n",
              "      <td>0</td>\n",
              "      <td>1</td>\n",
              "      <td>1</td>\n",
              "      <td>73</td>\n",
              "      <td>59</td>\n",
              "      <td>14</td>\n",
              "      <td>10</td>\n",
              "      <td>4.0</td>\n",
              "      <td>24.0</td>\n",
              "      <td>0.166667</td>\n",
              "      <td>2</td>\n",
              "      <td>0</td>\n",
              "    </tr>\n",
              "    <tr>\n",
              "      <th>3</th>\n",
              "      <td>3</td>\n",
              "      <td>7</td>\n",
              "      <td>8</td>\n",
              "      <td>Why am I mentally very lonely? How can I solve...</td>\n",
              "      <td>Find the remainder when [math]23^{24}[/math] i...</td>\n",
              "      <td>0</td>\n",
              "      <td>1</td>\n",
              "      <td>1</td>\n",
              "      <td>50</td>\n",
              "      <td>65</td>\n",
              "      <td>11</td>\n",
              "      <td>9</td>\n",
              "      <td>0.0</td>\n",
              "      <td>19.0</td>\n",
              "      <td>0.000000</td>\n",
              "      <td>2</td>\n",
              "      <td>0</td>\n",
              "    </tr>\n",
              "    <tr>\n",
              "      <th>4</th>\n",
              "      <td>4</td>\n",
              "      <td>9</td>\n",
              "      <td>10</td>\n",
              "      <td>Which one dissolve in water quikly sugar, salt...</td>\n",
              "      <td>Which fish would survive in salt water?</td>\n",
              "      <td>0</td>\n",
              "      <td>1</td>\n",
              "      <td>1</td>\n",
              "      <td>76</td>\n",
              "      <td>39</td>\n",
              "      <td>13</td>\n",
              "      <td>7</td>\n",
              "      <td>2.0</td>\n",
              "      <td>20.0</td>\n",
              "      <td>0.100000</td>\n",
              "      <td>2</td>\n",
              "      <td>0</td>\n",
              "    </tr>\n",
              "  </tbody>\n",
              "</table>\n",
              "</div>"
            ],
            "text/plain": [
              "   id  qid1  qid2  ... word_share freq_q1+q2  freq_q1-q2\n",
              "0   0     1     2  ...   0.434783          2           0\n",
              "1   1     3     4  ...   0.200000          2           0\n",
              "2   2     5     6  ...   0.166667          2           0\n",
              "3   3     7     8  ...   0.000000          2           0\n",
              "4   4     9    10  ...   0.100000          2           0\n",
              "\n",
              "[5 rows x 17 columns]"
            ]
          },
          "metadata": {
            "tags": []
          },
          "execution_count": 105
        }
      ]
    },
    {
      "cell_type": "code",
      "metadata": {
        "id": "wkYwRYsciqWx"
      },
      "source": [
        "from sklearn.feature_extraction.text import TfidfVectorizer\n",
        "from sklearn.feature_extraction.text import CountVectorizer\n",
        "# merge texts\n",
        "questions = list(df['question1']) + list(df['question2'])\n",
        "\n",
        "tfidf = TfidfVectorizer(lowercase=False, )\n",
        "tfidf.fit_transform(questions)\n",
        "\n",
        "# dict key:word and value:tf-idf score\n",
        "word2tfidf = dict(zip(tfidf.get_feature_names(), tfidf.idf_))"
      ],
      "execution_count": null,
      "outputs": []
    },
    {
      "cell_type": "markdown",
      "metadata": {
        "collapsed": true,
        "id": "2JKI2yT4dMUv"
      },
      "source": [
        "- After we find TF-IDF scores, we convert each question to a weighted average of word2vec vectors by these scores.\n",
        "- here we use a pre-trained GLOVE model which comes free with \"Spacy\".  https://spacy.io/usage/vectors-similarity\n",
        "- It is trained on Wikipedia and therefore, it is stronger in terms of word semantics. "
      ]
    },
    {
      "cell_type": "code",
      "metadata": {
        "id": "PFS6m8z5dMUz",
        "colab": {
          "base_uri": "https://localhost:8080/"
        },
        "outputId": "6fc3d42e-616f-4ac3-b155-5c2f354e3ee1"
      },
      "source": [
        "# en_vectors_web_lg, which includes over 1 million unique vectors.\n",
        "nlp = spacy.load('en_core_web_sm')\n",
        "\n",
        "vecs1 = []\n",
        "# https://github.com/noamraph/tqdm\n",
        "# tqdm is used to print the progress bar\n",
        "for qu1 in tqdm(list(df['question1'])):\n",
        "    doc1 = nlp(qu1) \n",
        "    # 384 is the number of dimensions of vectors \n",
        "    mean_vec1 = np.zeros([len(doc1), len(doc1[0].vector)])\n",
        "    for word1 in doc1:\n",
        "        # word2vec\n",
        "        vec1 = word1.vector\n",
        "        # fetch df score\n",
        "        try:\n",
        "            idf = word2tfidf[str(word1)]\n",
        "        except:\n",
        "            idf = 0\n",
        "        # compute final vec\n",
        "        mean_vec1 += vec1 * idf\n",
        "    mean_vec1 = mean_vec1.mean(axis=0)\n",
        "    vecs1.append(mean_vec1)\n",
        "df['q1_feats_m'] = list(vecs1)\n"
      ],
      "execution_count": null,
      "outputs": [
        {
          "output_type": "stream",
          "text": [
            "100%|██████████| 16/16 [00:00<00:00, 94.84it/s]\n"
          ],
          "name": "stderr"
        }
      ]
    },
    {
      "cell_type": "code",
      "metadata": {
        "id": "62GEF-RbdMVB",
        "colab": {
          "base_uri": "https://localhost:8080/"
        },
        "outputId": "f913de87-b5ac-4170-b264-064e50bef669"
      },
      "source": [
        "vecs2 = []\n",
        "for qu2 in tqdm(list(df['question2'])):\n",
        "    doc2 = nlp(qu2) \n",
        "    mean_vec2 = np.zeros([len(doc1), len(doc2[0].vector)])\n",
        "    for word2 in doc2:\n",
        "        # word2vec\n",
        "        vec2 = word2.vector\n",
        "        # fetch df score\n",
        "        try:\n",
        "            idf = word2tfidf[str(word2)]\n",
        "        except:\n",
        "            #print word\n",
        "            idf = 0\n",
        "        # compute final vec\n",
        "        mean_vec2 += vec2 * idf\n",
        "    mean_vec2 = mean_vec2.mean(axis=0)\n",
        "    vecs2.append(mean_vec2)\n",
        "df['q2_feats_m'] = list(vecs2)"
      ],
      "execution_count": null,
      "outputs": [
        {
          "output_type": "stream",
          "text": [
            "100%|██████████| 16/16 [00:00<00:00, 93.42it/s]\n"
          ],
          "name": "stderr"
        }
      ]
    },
    {
      "cell_type": "code",
      "metadata": {
        "id": "apdRa1kndMVb"
      },
      "source": [
        "df_q1 = pd.DataFrame(df.q1_feats_m.values.tolist(), index= df.index)\n",
        "df_q2 = pd.DataFrame(df.q2_feats_m.values.tolist(), index= df.index)"
      ],
      "execution_count": null,
      "outputs": []
    },
    {
      "cell_type": "code",
      "metadata": {
        "id": "p927uVed86b_",
        "colab": {
          "base_uri": "https://localhost:8080/",
          "height": 650
        },
        "outputId": "bdf3ac77-1cad-4fc2-ef07-460783dc3f6e"
      },
      "source": [
        "df.head()"
      ],
      "execution_count": null,
      "outputs": [
        {
          "output_type": "execute_result",
          "data": {
            "text/html": [
              "<div>\n",
              "<style scoped>\n",
              "    .dataframe tbody tr th:only-of-type {\n",
              "        vertical-align: middle;\n",
              "    }\n",
              "\n",
              "    .dataframe tbody tr th {\n",
              "        vertical-align: top;\n",
              "    }\n",
              "\n",
              "    .dataframe thead th {\n",
              "        text-align: right;\n",
              "    }\n",
              "</style>\n",
              "<table border=\"1\" class=\"dataframe\">\n",
              "  <thead>\n",
              "    <tr style=\"text-align: right;\">\n",
              "      <th></th>\n",
              "      <th>id</th>\n",
              "      <th>qid1</th>\n",
              "      <th>qid2</th>\n",
              "      <th>question1</th>\n",
              "      <th>question2</th>\n",
              "      <th>is_duplicate</th>\n",
              "      <th>freq_qid1</th>\n",
              "      <th>freq_qid2</th>\n",
              "      <th>q1len</th>\n",
              "      <th>q2len</th>\n",
              "      <th>q1_n_words</th>\n",
              "      <th>q2_n_words</th>\n",
              "      <th>word_Common</th>\n",
              "      <th>word_Total</th>\n",
              "      <th>word_share</th>\n",
              "      <th>freq_q1+q2</th>\n",
              "      <th>freq_q1-q2</th>\n",
              "      <th>q1_feats_m</th>\n",
              "      <th>q2_feats_m</th>\n",
              "    </tr>\n",
              "  </thead>\n",
              "  <tbody>\n",
              "    <tr>\n",
              "      <th>0</th>\n",
              "      <td>0</td>\n",
              "      <td>1</td>\n",
              "      <td>2</td>\n",
              "      <td>What is the step by step guide to invest in sh...</td>\n",
              "      <td>What is the step by step guide to invest in sh...</td>\n",
              "      <td>0</td>\n",
              "      <td>1</td>\n",
              "      <td>1</td>\n",
              "      <td>66</td>\n",
              "      <td>57</td>\n",
              "      <td>14</td>\n",
              "      <td>12</td>\n",
              "      <td>10.0</td>\n",
              "      <td>23.0</td>\n",
              "      <td>0.434783</td>\n",
              "      <td>2</td>\n",
              "      <td>0</td>\n",
              "      <td>[-3.8901073932647705, 20.304443657398224, -35....</td>\n",
              "      <td>[-12.331659734249115, 32.19257801771164, -31.1...</td>\n",
              "    </tr>\n",
              "    <tr>\n",
              "      <th>1</th>\n",
              "      <td>1</td>\n",
              "      <td>3</td>\n",
              "      <td>4</td>\n",
              "      <td>What is the story of Kohinoor (Koh-i-Noor) Dia...</td>\n",
              "      <td>What would happen if the Indian government sto...</td>\n",
              "      <td>0</td>\n",
              "      <td>1</td>\n",
              "      <td>1</td>\n",
              "      <td>51</td>\n",
              "      <td>88</td>\n",
              "      <td>8</td>\n",
              "      <td>13</td>\n",
              "      <td>4.0</td>\n",
              "      <td>20.0</td>\n",
              "      <td>0.200000</td>\n",
              "      <td>2</td>\n",
              "      <td>0</td>\n",
              "      <td>[0.6123348474502563, -18.134884983301163, -14....</td>\n",
              "      <td>[12.865045869257301, -0.3618507385253906, -48....</td>\n",
              "    </tr>\n",
              "    <tr>\n",
              "      <th>2</th>\n",
              "      <td>2</td>\n",
              "      <td>5</td>\n",
              "      <td>6</td>\n",
              "      <td>How can I increase the speed of my internet co...</td>\n",
              "      <td>How can Internet speed be increased by hacking...</td>\n",
              "      <td>0</td>\n",
              "      <td>1</td>\n",
              "      <td>1</td>\n",
              "      <td>73</td>\n",
              "      <td>59</td>\n",
              "      <td>14</td>\n",
              "      <td>10</td>\n",
              "      <td>4.0</td>\n",
              "      <td>24.0</td>\n",
              "      <td>0.166667</td>\n",
              "      <td>2</td>\n",
              "      <td>0</td>\n",
              "      <td>[52.94309484958649, 11.470338620245457, -3.265...</td>\n",
              "      <td>[78.32479038089514, 37.50541251897812, -0.6927...</td>\n",
              "    </tr>\n",
              "    <tr>\n",
              "      <th>3</th>\n",
              "      <td>3</td>\n",
              "      <td>7</td>\n",
              "      <td>8</td>\n",
              "      <td>Why am I mentally very lonely? How can I solve...</td>\n",
              "      <td>Find the remainder when [math]23^{24}[/math] i...</td>\n",
              "      <td>0</td>\n",
              "      <td>1</td>\n",
              "      <td>1</td>\n",
              "      <td>50</td>\n",
              "      <td>65</td>\n",
              "      <td>11</td>\n",
              "      <td>9</td>\n",
              "      <td>0.0</td>\n",
              "      <td>19.0</td>\n",
              "      <td>0.000000</td>\n",
              "      <td>2</td>\n",
              "      <td>0</td>\n",
              "      <td>[33.65871334075928, -14.111445724964142, 0.836...</td>\n",
              "      <td>[15.163574859499931, 25.522109523415565, 20.25...</td>\n",
              "    </tr>\n",
              "    <tr>\n",
              "      <th>4</th>\n",
              "      <td>4</td>\n",
              "      <td>9</td>\n",
              "      <td>10</td>\n",
              "      <td>Which one dissolve in water quikly sugar, salt...</td>\n",
              "      <td>Which fish would survive in salt water?</td>\n",
              "      <td>0</td>\n",
              "      <td>1</td>\n",
              "      <td>1</td>\n",
              "      <td>76</td>\n",
              "      <td>39</td>\n",
              "      <td>13</td>\n",
              "      <td>7</td>\n",
              "      <td>2.0</td>\n",
              "      <td>20.0</td>\n",
              "      <td>0.100000</td>\n",
              "      <td>2</td>\n",
              "      <td>0</td>\n",
              "      <td>[26.93554499745369, -13.713625252246857, -21.3...</td>\n",
              "      <td>[-4.346223831176758, -6.020967781543732, -29.9...</td>\n",
              "    </tr>\n",
              "  </tbody>\n",
              "</table>\n",
              "</div>"
            ],
            "text/plain": [
              "   id  ...                                         q2_feats_m\n",
              "0   0  ...  [-12.331659734249115, 32.19257801771164, -31.1...\n",
              "1   1  ...  [12.865045869257301, -0.3618507385253906, -48....\n",
              "2   2  ...  [78.32479038089514, 37.50541251897812, -0.6927...\n",
              "3   3  ...  [15.163574859499931, 25.522109523415565, 20.25...\n",
              "4   4  ...  [-4.346223831176758, -6.020967781543732, -29.9...\n",
              "\n",
              "[5 rows x 19 columns]"
            ]
          },
          "metadata": {
            "tags": []
          },
          "execution_count": 138
        }
      ]
    },
    {
      "cell_type": "code",
      "metadata": {
        "id": "N4DQnDtndMV4",
        "colab": {
          "base_uri": "https://localhost:8080/",
          "height": 247
        },
        "outputId": "f2f61a1f-d598-4ef0-aa75-a6c3ab239cb5"
      },
      "source": [
        "# Questions 1 tfidf weighted word2vec\n",
        "df_q1.head()"
      ],
      "execution_count": null,
      "outputs": [
        {
          "output_type": "execute_result",
          "data": {
            "text/html": [
              "<div>\n",
              "<style scoped>\n",
              "    .dataframe tbody tr th:only-of-type {\n",
              "        vertical-align: middle;\n",
              "    }\n",
              "\n",
              "    .dataframe tbody tr th {\n",
              "        vertical-align: top;\n",
              "    }\n",
              "\n",
              "    .dataframe thead th {\n",
              "        text-align: right;\n",
              "    }\n",
              "</style>\n",
              "<table border=\"1\" class=\"dataframe\">\n",
              "  <thead>\n",
              "    <tr style=\"text-align: right;\">\n",
              "      <th></th>\n",
              "      <th>0</th>\n",
              "      <th>1</th>\n",
              "      <th>2</th>\n",
              "      <th>3</th>\n",
              "      <th>4</th>\n",
              "      <th>5</th>\n",
              "      <th>6</th>\n",
              "      <th>7</th>\n",
              "      <th>8</th>\n",
              "      <th>9</th>\n",
              "      <th>10</th>\n",
              "      <th>11</th>\n",
              "      <th>12</th>\n",
              "      <th>13</th>\n",
              "      <th>14</th>\n",
              "      <th>15</th>\n",
              "      <th>16</th>\n",
              "      <th>17</th>\n",
              "      <th>18</th>\n",
              "      <th>19</th>\n",
              "      <th>20</th>\n",
              "      <th>21</th>\n",
              "      <th>22</th>\n",
              "      <th>23</th>\n",
              "      <th>24</th>\n",
              "      <th>25</th>\n",
              "      <th>26</th>\n",
              "      <th>27</th>\n",
              "      <th>28</th>\n",
              "      <th>29</th>\n",
              "      <th>30</th>\n",
              "      <th>31</th>\n",
              "      <th>32</th>\n",
              "      <th>33</th>\n",
              "      <th>34</th>\n",
              "      <th>35</th>\n",
              "      <th>36</th>\n",
              "      <th>37</th>\n",
              "      <th>38</th>\n",
              "      <th>39</th>\n",
              "      <th>...</th>\n",
              "      <th>56</th>\n",
              "      <th>57</th>\n",
              "      <th>58</th>\n",
              "      <th>59</th>\n",
              "      <th>60</th>\n",
              "      <th>61</th>\n",
              "      <th>62</th>\n",
              "      <th>63</th>\n",
              "      <th>64</th>\n",
              "      <th>65</th>\n",
              "      <th>66</th>\n",
              "      <th>67</th>\n",
              "      <th>68</th>\n",
              "      <th>69</th>\n",
              "      <th>70</th>\n",
              "      <th>71</th>\n",
              "      <th>72</th>\n",
              "      <th>73</th>\n",
              "      <th>74</th>\n",
              "      <th>75</th>\n",
              "      <th>76</th>\n",
              "      <th>77</th>\n",
              "      <th>78</th>\n",
              "      <th>79</th>\n",
              "      <th>80</th>\n",
              "      <th>81</th>\n",
              "      <th>82</th>\n",
              "      <th>83</th>\n",
              "      <th>84</th>\n",
              "      <th>85</th>\n",
              "      <th>86</th>\n",
              "      <th>87</th>\n",
              "      <th>88</th>\n",
              "      <th>89</th>\n",
              "      <th>90</th>\n",
              "      <th>91</th>\n",
              "      <th>92</th>\n",
              "      <th>93</th>\n",
              "      <th>94</th>\n",
              "      <th>95</th>\n",
              "    </tr>\n",
              "  </thead>\n",
              "  <tbody>\n",
              "    <tr>\n",
              "      <th>0</th>\n",
              "      <td>-3.890107</td>\n",
              "      <td>20.304444</td>\n",
              "      <td>-35.584164</td>\n",
              "      <td>4.276663</td>\n",
              "      <td>74.896054</td>\n",
              "      <td>61.099366</td>\n",
              "      <td>28.552881</td>\n",
              "      <td>28.235536</td>\n",
              "      <td>32.595708</td>\n",
              "      <td>124.358917</td>\n",
              "      <td>20.353079</td>\n",
              "      <td>-9.250395</td>\n",
              "      <td>-1.306328</td>\n",
              "      <td>-36.252351</td>\n",
              "      <td>-3.611569</td>\n",
              "      <td>-45.392524</td>\n",
              "      <td>-26.898797</td>\n",
              "      <td>-29.093627</td>\n",
              "      <td>-26.695414</td>\n",
              "      <td>2.253143</td>\n",
              "      <td>30.468831</td>\n",
              "      <td>33.721527</td>\n",
              "      <td>5.834834</td>\n",
              "      <td>11.861404</td>\n",
              "      <td>-28.668763</td>\n",
              "      <td>-11.589463</td>\n",
              "      <td>18.474469</td>\n",
              "      <td>2.073863</td>\n",
              "      <td>37.821950</td>\n",
              "      <td>-53.153247</td>\n",
              "      <td>62.993943</td>\n",
              "      <td>-27.222731</td>\n",
              "      <td>5.600689</td>\n",
              "      <td>-41.756653</td>\n",
              "      <td>-24.380586</td>\n",
              "      <td>-37.970217</td>\n",
              "      <td>86.252546</td>\n",
              "      <td>-22.821122</td>\n",
              "      <td>-16.558682</td>\n",
              "      <td>-35.907082</td>\n",
              "      <td>...</td>\n",
              "      <td>50.677418</td>\n",
              "      <td>27.638519</td>\n",
              "      <td>-26.335065</td>\n",
              "      <td>44.730118</td>\n",
              "      <td>48.413266</td>\n",
              "      <td>-25.739801</td>\n",
              "      <td>48.405106</td>\n",
              "      <td>22.813933</td>\n",
              "      <td>-9.479971</td>\n",
              "      <td>-47.479084</td>\n",
              "      <td>34.150586</td>\n",
              "      <td>-48.544100</td>\n",
              "      <td>-17.941904</td>\n",
              "      <td>25.823509</td>\n",
              "      <td>-65.704552</td>\n",
              "      <td>5.889124</td>\n",
              "      <td>-5.261914</td>\n",
              "      <td>-21.261524</td>\n",
              "      <td>-31.220942</td>\n",
              "      <td>22.707537</td>\n",
              "      <td>62.365847</td>\n",
              "      <td>-62.370815</td>\n",
              "      <td>12.103319</td>\n",
              "      <td>3.965498</td>\n",
              "      <td>5.018870</td>\n",
              "      <td>-41.031326</td>\n",
              "      <td>-20.048632</td>\n",
              "      <td>-9.033819</td>\n",
              "      <td>15.532590</td>\n",
              "      <td>-11.559832</td>\n",
              "      <td>-31.678437</td>\n",
              "      <td>-16.836430</td>\n",
              "      <td>-0.421258</td>\n",
              "      <td>63.636762</td>\n",
              "      <td>-54.986165</td>\n",
              "      <td>-39.316432</td>\n",
              "      <td>-38.092721</td>\n",
              "      <td>54.602324</td>\n",
              "      <td>25.220160</td>\n",
              "      <td>-9.142389</td>\n",
              "    </tr>\n",
              "    <tr>\n",
              "      <th>1</th>\n",
              "      <td>0.612335</td>\n",
              "      <td>-18.134885</td>\n",
              "      <td>-14.002938</td>\n",
              "      <td>14.261087</td>\n",
              "      <td>76.451584</td>\n",
              "      <td>31.379424</td>\n",
              "      <td>37.717019</td>\n",
              "      <td>13.786195</td>\n",
              "      <td>37.975428</td>\n",
              "      <td>47.374707</td>\n",
              "      <td>23.082093</td>\n",
              "      <td>-11.393444</td>\n",
              "      <td>-5.304889</td>\n",
              "      <td>-12.814711</td>\n",
              "      <td>-36.216892</td>\n",
              "      <td>-37.489102</td>\n",
              "      <td>5.744476</td>\n",
              "      <td>13.255750</td>\n",
              "      <td>-4.344752</td>\n",
              "      <td>-20.803270</td>\n",
              "      <td>8.772268</td>\n",
              "      <td>-9.874158</td>\n",
              "      <td>-5.743981</td>\n",
              "      <td>-21.343202</td>\n",
              "      <td>-38.439503</td>\n",
              "      <td>-22.444162</td>\n",
              "      <td>1.733546</td>\n",
              "      <td>-39.353638</td>\n",
              "      <td>15.780406</td>\n",
              "      <td>-45.892454</td>\n",
              "      <td>-5.650289</td>\n",
              "      <td>9.368152</td>\n",
              "      <td>3.084818</td>\n",
              "      <td>-12.938267</td>\n",
              "      <td>21.018510</td>\n",
              "      <td>-37.965347</td>\n",
              "      <td>60.301374</td>\n",
              "      <td>-21.877022</td>\n",
              "      <td>-37.001342</td>\n",
              "      <td>-16.753889</td>\n",
              "      <td>...</td>\n",
              "      <td>22.188100</td>\n",
              "      <td>38.026017</td>\n",
              "      <td>2.608275</td>\n",
              "      <td>-20.728983</td>\n",
              "      <td>-26.141548</td>\n",
              "      <td>-12.822930</td>\n",
              "      <td>12.647771</td>\n",
              "      <td>13.758892</td>\n",
              "      <td>23.864861</td>\n",
              "      <td>26.300385</td>\n",
              "      <td>26.693592</td>\n",
              "      <td>-21.867264</td>\n",
              "      <td>-16.196680</td>\n",
              "      <td>26.387212</td>\n",
              "      <td>-42.330284</td>\n",
              "      <td>-3.056694</td>\n",
              "      <td>21.914230</td>\n",
              "      <td>-4.316699</td>\n",
              "      <td>-9.873287</td>\n",
              "      <td>-11.967894</td>\n",
              "      <td>52.734521</td>\n",
              "      <td>-15.741061</td>\n",
              "      <td>-18.028919</td>\n",
              "      <td>-20.142799</td>\n",
              "      <td>33.690378</td>\n",
              "      <td>-27.989318</td>\n",
              "      <td>-1.972000</td>\n",
              "      <td>8.813562</td>\n",
              "      <td>-3.665562</td>\n",
              "      <td>31.531585</td>\n",
              "      <td>-20.503914</td>\n",
              "      <td>-12.590355</td>\n",
              "      <td>7.423956</td>\n",
              "      <td>12.563918</td>\n",
              "      <td>-44.678857</td>\n",
              "      <td>22.305072</td>\n",
              "      <td>11.156884</td>\n",
              "      <td>50.378927</td>\n",
              "      <td>39.849143</td>\n",
              "      <td>8.609022</td>\n",
              "    </tr>\n",
              "    <tr>\n",
              "      <th>2</th>\n",
              "      <td>52.943095</td>\n",
              "      <td>11.470339</td>\n",
              "      <td>-3.265820</td>\n",
              "      <td>-1.489804</td>\n",
              "      <td>38.531875</td>\n",
              "      <td>8.535446</td>\n",
              "      <td>3.775488</td>\n",
              "      <td>28.182203</td>\n",
              "      <td>53.511482</td>\n",
              "      <td>124.122493</td>\n",
              "      <td>-12.055783</td>\n",
              "      <td>-32.163934</td>\n",
              "      <td>-34.232564</td>\n",
              "      <td>-53.445768</td>\n",
              "      <td>21.955639</td>\n",
              "      <td>8.649957</td>\n",
              "      <td>-17.537504</td>\n",
              "      <td>-8.685748</td>\n",
              "      <td>-13.071865</td>\n",
              "      <td>-30.580681</td>\n",
              "      <td>29.486677</td>\n",
              "      <td>63.143336</td>\n",
              "      <td>-1.411218</td>\n",
              "      <td>-23.431091</td>\n",
              "      <td>-26.208651</td>\n",
              "      <td>19.848325</td>\n",
              "      <td>-35.062611</td>\n",
              "      <td>-41.887616</td>\n",
              "      <td>22.057683</td>\n",
              "      <td>-29.123204</td>\n",
              "      <td>43.076456</td>\n",
              "      <td>59.393385</td>\n",
              "      <td>-8.458217</td>\n",
              "      <td>-21.299002</td>\n",
              "      <td>-26.806787</td>\n",
              "      <td>-7.326773</td>\n",
              "      <td>20.918338</td>\n",
              "      <td>-39.155005</td>\n",
              "      <td>-75.427817</td>\n",
              "      <td>-36.838555</td>\n",
              "      <td>...</td>\n",
              "      <td>72.058284</td>\n",
              "      <td>20.494430</td>\n",
              "      <td>5.844455</td>\n",
              "      <td>11.622522</td>\n",
              "      <td>72.050020</td>\n",
              "      <td>-72.058103</td>\n",
              "      <td>-30.660746</td>\n",
              "      <td>73.274524</td>\n",
              "      <td>-1.768635</td>\n",
              "      <td>-8.842135</td>\n",
              "      <td>18.606375</td>\n",
              "      <td>-51.526086</td>\n",
              "      <td>-4.516459</td>\n",
              "      <td>40.299666</td>\n",
              "      <td>-5.485763</td>\n",
              "      <td>5.481775</td>\n",
              "      <td>35.611879</td>\n",
              "      <td>7.069308</td>\n",
              "      <td>-20.683479</td>\n",
              "      <td>-4.944572</td>\n",
              "      <td>60.767626</td>\n",
              "      <td>-65.059671</td>\n",
              "      <td>-11.954851</td>\n",
              "      <td>-10.384092</td>\n",
              "      <td>6.489030</td>\n",
              "      <td>12.776017</td>\n",
              "      <td>-29.823596</td>\n",
              "      <td>38.884628</td>\n",
              "      <td>34.639847</td>\n",
              "      <td>-50.268013</td>\n",
              "      <td>-43.051180</td>\n",
              "      <td>60.184135</td>\n",
              "      <td>13.470498</td>\n",
              "      <td>27.989983</td>\n",
              "      <td>-30.701956</td>\n",
              "      <td>-29.359833</td>\n",
              "      <td>-33.415620</td>\n",
              "      <td>43.001259</td>\n",
              "      <td>56.456515</td>\n",
              "      <td>-22.323801</td>\n",
              "    </tr>\n",
              "    <tr>\n",
              "      <th>3</th>\n",
              "      <td>33.658713</td>\n",
              "      <td>-14.111446</td>\n",
              "      <td>0.836994</td>\n",
              "      <td>-45.687915</td>\n",
              "      <td>9.618204</td>\n",
              "      <td>-14.352659</td>\n",
              "      <td>39.882005</td>\n",
              "      <td>69.322843</td>\n",
              "      <td>19.338700</td>\n",
              "      <td>35.442755</td>\n",
              "      <td>-56.724156</td>\n",
              "      <td>-0.589013</td>\n",
              "      <td>73.396357</td>\n",
              "      <td>47.689834</td>\n",
              "      <td>35.307024</td>\n",
              "      <td>68.220561</td>\n",
              "      <td>-29.846330</td>\n",
              "      <td>-44.232566</td>\n",
              "      <td>-29.419426</td>\n",
              "      <td>8.998124</td>\n",
              "      <td>-23.091029</td>\n",
              "      <td>-2.865553</td>\n",
              "      <td>-19.445971</td>\n",
              "      <td>-28.911958</td>\n",
              "      <td>8.199001</td>\n",
              "      <td>68.445273</td>\n",
              "      <td>4.625885</td>\n",
              "      <td>-67.841691</td>\n",
              "      <td>-14.440730</td>\n",
              "      <td>-0.861857</td>\n",
              "      <td>-24.542095</td>\n",
              "      <td>-6.067030</td>\n",
              "      <td>22.361706</td>\n",
              "      <td>-8.122326</td>\n",
              "      <td>1.961340</td>\n",
              "      <td>-21.325310</td>\n",
              "      <td>11.195079</td>\n",
              "      <td>-49.996515</td>\n",
              "      <td>-34.138630</td>\n",
              "      <td>1.239559</td>\n",
              "      <td>...</td>\n",
              "      <td>70.759702</td>\n",
              "      <td>12.975360</td>\n",
              "      <td>-14.716538</td>\n",
              "      <td>1.678675</td>\n",
              "      <td>16.181865</td>\n",
              "      <td>-94.002659</td>\n",
              "      <td>-24.243046</td>\n",
              "      <td>8.008126</td>\n",
              "      <td>-8.960708</td>\n",
              "      <td>-15.889009</td>\n",
              "      <td>-57.157163</td>\n",
              "      <td>-2.444449</td>\n",
              "      <td>35.381614</td>\n",
              "      <td>12.914194</td>\n",
              "      <td>-21.448546</td>\n",
              "      <td>5.804887</td>\n",
              "      <td>31.060361</td>\n",
              "      <td>13.881139</td>\n",
              "      <td>-5.960832</td>\n",
              "      <td>-64.975911</td>\n",
              "      <td>70.063483</td>\n",
              "      <td>-28.064594</td>\n",
              "      <td>-32.106498</td>\n",
              "      <td>37.931101</td>\n",
              "      <td>23.006551</td>\n",
              "      <td>-24.001708</td>\n",
              "      <td>-25.050339</td>\n",
              "      <td>32.511440</td>\n",
              "      <td>-0.756591</td>\n",
              "      <td>-10.402809</td>\n",
              "      <td>11.464213</td>\n",
              "      <td>27.107195</td>\n",
              "      <td>-1.036201</td>\n",
              "      <td>4.775734</td>\n",
              "      <td>-35.680407</td>\n",
              "      <td>-4.422104</td>\n",
              "      <td>-40.160752</td>\n",
              "      <td>44.936297</td>\n",
              "      <td>-11.266835</td>\n",
              "      <td>36.456198</td>\n",
              "    </tr>\n",
              "    <tr>\n",
              "      <th>4</th>\n",
              "      <td>26.935545</td>\n",
              "      <td>-13.713625</td>\n",
              "      <td>-21.382149</td>\n",
              "      <td>-27.669272</td>\n",
              "      <td>38.189761</td>\n",
              "      <td>-17.876178</td>\n",
              "      <td>24.866073</td>\n",
              "      <td>37.555594</td>\n",
              "      <td>57.902809</td>\n",
              "      <td>124.357407</td>\n",
              "      <td>13.227327</td>\n",
              "      <td>26.823877</td>\n",
              "      <td>59.873512</td>\n",
              "      <td>-37.979112</td>\n",
              "      <td>8.281935</td>\n",
              "      <td>18.342303</td>\n",
              "      <td>-30.975476</td>\n",
              "      <td>-14.526912</td>\n",
              "      <td>-25.455414</td>\n",
              "      <td>-16.225441</td>\n",
              "      <td>45.521023</td>\n",
              "      <td>14.057025</td>\n",
              "      <td>-23.748321</td>\n",
              "      <td>-11.768589</td>\n",
              "      <td>-40.885379</td>\n",
              "      <td>6.434516</td>\n",
              "      <td>-24.728182</td>\n",
              "      <td>-58.970782</td>\n",
              "      <td>57.152902</td>\n",
              "      <td>-30.044526</td>\n",
              "      <td>40.854263</td>\n",
              "      <td>39.887034</td>\n",
              "      <td>12.388897</td>\n",
              "      <td>-18.808324</td>\n",
              "      <td>-8.927560</td>\n",
              "      <td>-34.841355</td>\n",
              "      <td>15.898392</td>\n",
              "      <td>-62.390364</td>\n",
              "      <td>-15.708442</td>\n",
              "      <td>-31.810608</td>\n",
              "      <td>...</td>\n",
              "      <td>61.440321</td>\n",
              "      <td>12.969900</td>\n",
              "      <td>-10.076317</td>\n",
              "      <td>39.673496</td>\n",
              "      <td>53.678243</td>\n",
              "      <td>-45.089030</td>\n",
              "      <td>32.913984</td>\n",
              "      <td>41.757217</td>\n",
              "      <td>-3.963877</td>\n",
              "      <td>19.936222</td>\n",
              "      <td>5.691690</td>\n",
              "      <td>-71.167956</td>\n",
              "      <td>-63.767902</td>\n",
              "      <td>50.463361</td>\n",
              "      <td>12.055530</td>\n",
              "      <td>-36.599732</td>\n",
              "      <td>27.165921</td>\n",
              "      <td>31.059531</td>\n",
              "      <td>-59.803270</td>\n",
              "      <td>-23.732023</td>\n",
              "      <td>37.784715</td>\n",
              "      <td>-10.559471</td>\n",
              "      <td>34.556366</td>\n",
              "      <td>-4.179178</td>\n",
              "      <td>42.040120</td>\n",
              "      <td>-92.768264</td>\n",
              "      <td>-40.197246</td>\n",
              "      <td>49.168006</td>\n",
              "      <td>16.541168</td>\n",
              "      <td>-30.505593</td>\n",
              "      <td>-2.302040</td>\n",
              "      <td>51.464069</td>\n",
              "      <td>-37.869220</td>\n",
              "      <td>-4.200469</td>\n",
              "      <td>46.213815</td>\n",
              "      <td>-14.347774</td>\n",
              "      <td>-42.871984</td>\n",
              "      <td>77.732289</td>\n",
              "      <td>138.162639</td>\n",
              "      <td>21.715899</td>\n",
              "    </tr>\n",
              "  </tbody>\n",
              "</table>\n",
              "<p>5 rows × 96 columns</p>\n",
              "</div>"
            ],
            "text/plain": [
              "          0          1          2   ...         93          94         95\n",
              "0  -3.890107  20.304444 -35.584164  ...  54.602324   25.220160  -9.142389\n",
              "1   0.612335 -18.134885 -14.002938  ...  50.378927   39.849143   8.609022\n",
              "2  52.943095  11.470339  -3.265820  ...  43.001259   56.456515 -22.323801\n",
              "3  33.658713 -14.111446   0.836994  ...  44.936297  -11.266835  36.456198\n",
              "4  26.935545 -13.713625 -21.382149  ...  77.732289  138.162639  21.715899\n",
              "\n",
              "[5 rows x 96 columns]"
            ]
          },
          "metadata": {
            "tags": []
          },
          "execution_count": 139
        }
      ]
    },
    {
      "cell_type": "code",
      "metadata": {
        "id": "_1YIPtTwdMWC",
        "colab": {
          "base_uri": "https://localhost:8080/",
          "height": 247
        },
        "outputId": "330cc9b4-0332-4b06-884f-0ff030fa0276"
      },
      "source": [
        "# Questions 2 tfidf weighted word2vec\n",
        "df_q2.head()"
      ],
      "execution_count": null,
      "outputs": [
        {
          "output_type": "execute_result",
          "data": {
            "text/html": [
              "<div>\n",
              "<style scoped>\n",
              "    .dataframe tbody tr th:only-of-type {\n",
              "        vertical-align: middle;\n",
              "    }\n",
              "\n",
              "    .dataframe tbody tr th {\n",
              "        vertical-align: top;\n",
              "    }\n",
              "\n",
              "    .dataframe thead th {\n",
              "        text-align: right;\n",
              "    }\n",
              "</style>\n",
              "<table border=\"1\" class=\"dataframe\">\n",
              "  <thead>\n",
              "    <tr style=\"text-align: right;\">\n",
              "      <th></th>\n",
              "      <th>0</th>\n",
              "      <th>1</th>\n",
              "      <th>2</th>\n",
              "      <th>3</th>\n",
              "      <th>4</th>\n",
              "      <th>5</th>\n",
              "      <th>6</th>\n",
              "      <th>7</th>\n",
              "      <th>8</th>\n",
              "      <th>9</th>\n",
              "      <th>10</th>\n",
              "      <th>11</th>\n",
              "      <th>12</th>\n",
              "      <th>13</th>\n",
              "      <th>14</th>\n",
              "      <th>15</th>\n",
              "      <th>16</th>\n",
              "      <th>17</th>\n",
              "      <th>18</th>\n",
              "      <th>19</th>\n",
              "      <th>20</th>\n",
              "      <th>21</th>\n",
              "      <th>22</th>\n",
              "      <th>23</th>\n",
              "      <th>24</th>\n",
              "      <th>25</th>\n",
              "      <th>26</th>\n",
              "      <th>27</th>\n",
              "      <th>28</th>\n",
              "      <th>29</th>\n",
              "      <th>30</th>\n",
              "      <th>31</th>\n",
              "      <th>32</th>\n",
              "      <th>33</th>\n",
              "      <th>34</th>\n",
              "      <th>35</th>\n",
              "      <th>36</th>\n",
              "      <th>37</th>\n",
              "      <th>38</th>\n",
              "      <th>39</th>\n",
              "      <th>...</th>\n",
              "      <th>56</th>\n",
              "      <th>57</th>\n",
              "      <th>58</th>\n",
              "      <th>59</th>\n",
              "      <th>60</th>\n",
              "      <th>61</th>\n",
              "      <th>62</th>\n",
              "      <th>63</th>\n",
              "      <th>64</th>\n",
              "      <th>65</th>\n",
              "      <th>66</th>\n",
              "      <th>67</th>\n",
              "      <th>68</th>\n",
              "      <th>69</th>\n",
              "      <th>70</th>\n",
              "      <th>71</th>\n",
              "      <th>72</th>\n",
              "      <th>73</th>\n",
              "      <th>74</th>\n",
              "      <th>75</th>\n",
              "      <th>76</th>\n",
              "      <th>77</th>\n",
              "      <th>78</th>\n",
              "      <th>79</th>\n",
              "      <th>80</th>\n",
              "      <th>81</th>\n",
              "      <th>82</th>\n",
              "      <th>83</th>\n",
              "      <th>84</th>\n",
              "      <th>85</th>\n",
              "      <th>86</th>\n",
              "      <th>87</th>\n",
              "      <th>88</th>\n",
              "      <th>89</th>\n",
              "      <th>90</th>\n",
              "      <th>91</th>\n",
              "      <th>92</th>\n",
              "      <th>93</th>\n",
              "      <th>94</th>\n",
              "      <th>95</th>\n",
              "    </tr>\n",
              "  </thead>\n",
              "  <tbody>\n",
              "    <tr>\n",
              "      <th>0</th>\n",
              "      <td>-12.331660</td>\n",
              "      <td>32.192578</td>\n",
              "      <td>-31.153167</td>\n",
              "      <td>-0.486428</td>\n",
              "      <td>57.151714</td>\n",
              "      <td>42.124120</td>\n",
              "      <td>22.541498</td>\n",
              "      <td>33.416076</td>\n",
              "      <td>7.931422</td>\n",
              "      <td>108.722070</td>\n",
              "      <td>-4.097496</td>\n",
              "      <td>-1.598951</td>\n",
              "      <td>0.142534</td>\n",
              "      <td>-31.278082</td>\n",
              "      <td>0.766731</td>\n",
              "      <td>-28.952160</td>\n",
              "      <td>-25.143676</td>\n",
              "      <td>-22.495549</td>\n",
              "      <td>-21.532490</td>\n",
              "      <td>4.461212</td>\n",
              "      <td>31.739038</td>\n",
              "      <td>30.812848</td>\n",
              "      <td>-2.431602</td>\n",
              "      <td>15.893303</td>\n",
              "      <td>-22.899309</td>\n",
              "      <td>-5.338850</td>\n",
              "      <td>28.794901</td>\n",
              "      <td>-1.064032</td>\n",
              "      <td>40.835731</td>\n",
              "      <td>-43.498933</td>\n",
              "      <td>55.891635</td>\n",
              "      <td>-3.400161</td>\n",
              "      <td>20.354402</td>\n",
              "      <td>-39.569644</td>\n",
              "      <td>-15.978675</td>\n",
              "      <td>-25.530412</td>\n",
              "      <td>74.116683</td>\n",
              "      <td>-27.974964</td>\n",
              "      <td>-8.332891</td>\n",
              "      <td>-29.186993</td>\n",
              "      <td>...</td>\n",
              "      <td>55.667332</td>\n",
              "      <td>11.798653</td>\n",
              "      <td>-23.653717</td>\n",
              "      <td>49.475913</td>\n",
              "      <td>48.005463</td>\n",
              "      <td>-29.783317</td>\n",
              "      <td>45.158508</td>\n",
              "      <td>21.158004</td>\n",
              "      <td>-11.105656</td>\n",
              "      <td>-47.236019</td>\n",
              "      <td>31.261590</td>\n",
              "      <td>-30.492361</td>\n",
              "      <td>-20.642893</td>\n",
              "      <td>19.341431</td>\n",
              "      <td>-54.716761</td>\n",
              "      <td>4.422640</td>\n",
              "      <td>4.329219</td>\n",
              "      <td>-14.495586</td>\n",
              "      <td>-32.771184</td>\n",
              "      <td>26.814773</td>\n",
              "      <td>57.940923</td>\n",
              "      <td>-54.801496</td>\n",
              "      <td>17.155609</td>\n",
              "      <td>8.584735</td>\n",
              "      <td>15.930280</td>\n",
              "      <td>-41.871671</td>\n",
              "      <td>-23.571233</td>\n",
              "      <td>3.239389</td>\n",
              "      <td>-20.985686</td>\n",
              "      <td>-28.390445</td>\n",
              "      <td>-35.342502</td>\n",
              "      <td>-4.503024</td>\n",
              "      <td>-7.153258</td>\n",
              "      <td>56.099373</td>\n",
              "      <td>-37.615219</td>\n",
              "      <td>-26.476134</td>\n",
              "      <td>-41.245493</td>\n",
              "      <td>47.635584</td>\n",
              "      <td>20.500035</td>\n",
              "      <td>-9.600599</td>\n",
              "    </tr>\n",
              "    <tr>\n",
              "      <th>1</th>\n",
              "      <td>12.865046</td>\n",
              "      <td>-0.361851</td>\n",
              "      <td>-48.085174</td>\n",
              "      <td>-12.361250</td>\n",
              "      <td>43.975465</td>\n",
              "      <td>-6.747856</td>\n",
              "      <td>48.968813</td>\n",
              "      <td>27.428932</td>\n",
              "      <td>54.827077</td>\n",
              "      <td>112.574017</td>\n",
              "      <td>1.370006</td>\n",
              "      <td>-10.727128</td>\n",
              "      <td>41.384185</td>\n",
              "      <td>-43.602130</td>\n",
              "      <td>-3.940308</td>\n",
              "      <td>-48.166162</td>\n",
              "      <td>8.275060</td>\n",
              "      <td>37.976107</td>\n",
              "      <td>-7.782691</td>\n",
              "      <td>-48.825992</td>\n",
              "      <td>-42.978205</td>\n",
              "      <td>12.155098</td>\n",
              "      <td>-16.549752</td>\n",
              "      <td>-24.237549</td>\n",
              "      <td>-63.650272</td>\n",
              "      <td>6.937010</td>\n",
              "      <td>17.490507</td>\n",
              "      <td>-46.859065</td>\n",
              "      <td>28.580918</td>\n",
              "      <td>-84.779590</td>\n",
              "      <td>47.713110</td>\n",
              "      <td>32.104825</td>\n",
              "      <td>-25.992235</td>\n",
              "      <td>-33.839873</td>\n",
              "      <td>14.873424</td>\n",
              "      <td>-79.788897</td>\n",
              "      <td>80.310843</td>\n",
              "      <td>-42.119437</td>\n",
              "      <td>-55.653958</td>\n",
              "      <td>-35.869491</td>\n",
              "      <td>...</td>\n",
              "      <td>91.048975</td>\n",
              "      <td>42.399712</td>\n",
              "      <td>-44.496885</td>\n",
              "      <td>-31.599129</td>\n",
              "      <td>-7.608633</td>\n",
              "      <td>-49.486689</td>\n",
              "      <td>15.555595</td>\n",
              "      <td>22.939917</td>\n",
              "      <td>12.498977</td>\n",
              "      <td>0.165254</td>\n",
              "      <td>30.251498</td>\n",
              "      <td>-10.769565</td>\n",
              "      <td>-19.452174</td>\n",
              "      <td>49.679164</td>\n",
              "      <td>-36.519640</td>\n",
              "      <td>31.395389</td>\n",
              "      <td>-1.321160</td>\n",
              "      <td>-6.424360</td>\n",
              "      <td>-29.365982</td>\n",
              "      <td>-0.309196</td>\n",
              "      <td>91.808578</td>\n",
              "      <td>-48.238002</td>\n",
              "      <td>-20.344377</td>\n",
              "      <td>3.638722</td>\n",
              "      <td>7.950152</td>\n",
              "      <td>-85.554269</td>\n",
              "      <td>-6.587907</td>\n",
              "      <td>31.377154</td>\n",
              "      <td>8.760873</td>\n",
              "      <td>-36.824891</td>\n",
              "      <td>9.266038</td>\n",
              "      <td>-9.578270</td>\n",
              "      <td>6.102523</td>\n",
              "      <td>21.963044</td>\n",
              "      <td>4.394703</td>\n",
              "      <td>56.609576</td>\n",
              "      <td>-32.038109</td>\n",
              "      <td>93.085985</td>\n",
              "      <td>36.613139</td>\n",
              "      <td>33.741564</td>\n",
              "    </tr>\n",
              "    <tr>\n",
              "      <th>2</th>\n",
              "      <td>78.324790</td>\n",
              "      <td>37.505413</td>\n",
              "      <td>-0.692790</td>\n",
              "      <td>8.451272</td>\n",
              "      <td>59.825852</td>\n",
              "      <td>49.000279</td>\n",
              "      <td>48.277140</td>\n",
              "      <td>20.382644</td>\n",
              "      <td>12.196986</td>\n",
              "      <td>85.051319</td>\n",
              "      <td>-49.824410</td>\n",
              "      <td>-14.633128</td>\n",
              "      <td>-28.367897</td>\n",
              "      <td>-50.391695</td>\n",
              "      <td>-7.629652</td>\n",
              "      <td>23.758193</td>\n",
              "      <td>10.597156</td>\n",
              "      <td>-2.361127</td>\n",
              "      <td>-5.850795</td>\n",
              "      <td>-14.037072</td>\n",
              "      <td>-8.342119</td>\n",
              "      <td>14.317191</td>\n",
              "      <td>-27.524530</td>\n",
              "      <td>-1.358347</td>\n",
              "      <td>-1.904920</td>\n",
              "      <td>22.492743</td>\n",
              "      <td>-16.352099</td>\n",
              "      <td>-7.598703</td>\n",
              "      <td>15.005600</td>\n",
              "      <td>-47.466245</td>\n",
              "      <td>60.750514</td>\n",
              "      <td>3.013929</td>\n",
              "      <td>17.337835</td>\n",
              "      <td>-23.161163</td>\n",
              "      <td>16.147146</td>\n",
              "      <td>-32.754776</td>\n",
              "      <td>45.157277</td>\n",
              "      <td>-32.229696</td>\n",
              "      <td>-57.692594</td>\n",
              "      <td>-6.849994</td>\n",
              "      <td>...</td>\n",
              "      <td>13.083034</td>\n",
              "      <td>-39.022064</td>\n",
              "      <td>17.591164</td>\n",
              "      <td>21.745160</td>\n",
              "      <td>62.965273</td>\n",
              "      <td>-48.195898</td>\n",
              "      <td>-6.252562</td>\n",
              "      <td>18.820576</td>\n",
              "      <td>-34.189207</td>\n",
              "      <td>-63.331380</td>\n",
              "      <td>5.714883</td>\n",
              "      <td>-32.615333</td>\n",
              "      <td>-25.060835</td>\n",
              "      <td>46.600347</td>\n",
              "      <td>5.700053</td>\n",
              "      <td>-4.486481</td>\n",
              "      <td>19.841844</td>\n",
              "      <td>-15.618965</td>\n",
              "      <td>10.075975</td>\n",
              "      <td>1.557965</td>\n",
              "      <td>76.560091</td>\n",
              "      <td>-43.019879</td>\n",
              "      <td>-13.106893</td>\n",
              "      <td>-11.978392</td>\n",
              "      <td>-0.607237</td>\n",
              "      <td>2.299991</td>\n",
              "      <td>-25.568662</td>\n",
              "      <td>24.224181</td>\n",
              "      <td>19.977924</td>\n",
              "      <td>-32.828306</td>\n",
              "      <td>-7.310355</td>\n",
              "      <td>-1.144022</td>\n",
              "      <td>46.365135</td>\n",
              "      <td>18.404990</td>\n",
              "      <td>-43.058625</td>\n",
              "      <td>-86.659072</td>\n",
              "      <td>-50.848553</td>\n",
              "      <td>8.996112</td>\n",
              "      <td>8.212813</td>\n",
              "      <td>14.198789</td>\n",
              "    </tr>\n",
              "    <tr>\n",
              "      <th>3</th>\n",
              "      <td>15.163575</td>\n",
              "      <td>25.522110</td>\n",
              "      <td>20.252827</td>\n",
              "      <td>-3.985652</td>\n",
              "      <td>24.710421</td>\n",
              "      <td>26.561146</td>\n",
              "      <td>20.096185</td>\n",
              "      <td>14.516984</td>\n",
              "      <td>1.503444</td>\n",
              "      <td>58.058274</td>\n",
              "      <td>-43.182072</td>\n",
              "      <td>-27.282775</td>\n",
              "      <td>-25.118142</td>\n",
              "      <td>-15.336253</td>\n",
              "      <td>-8.042924</td>\n",
              "      <td>4.833689</td>\n",
              "      <td>-33.317441</td>\n",
              "      <td>-12.474591</td>\n",
              "      <td>-8.297561</td>\n",
              "      <td>2.508788</td>\n",
              "      <td>22.130234</td>\n",
              "      <td>-21.147471</td>\n",
              "      <td>-13.225250</td>\n",
              "      <td>-1.567492</td>\n",
              "      <td>-22.838256</td>\n",
              "      <td>22.490597</td>\n",
              "      <td>-15.986093</td>\n",
              "      <td>-24.267462</td>\n",
              "      <td>10.748238</td>\n",
              "      <td>5.597456</td>\n",
              "      <td>-2.369658</td>\n",
              "      <td>34.901382</td>\n",
              "      <td>5.663395</td>\n",
              "      <td>-1.115345</td>\n",
              "      <td>-22.891081</td>\n",
              "      <td>2.323979</td>\n",
              "      <td>24.378639</td>\n",
              "      <td>-24.095533</td>\n",
              "      <td>-47.102635</td>\n",
              "      <td>-22.932194</td>\n",
              "      <td>...</td>\n",
              "      <td>17.358560</td>\n",
              "      <td>16.655250</td>\n",
              "      <td>4.752090</td>\n",
              "      <td>9.568971</td>\n",
              "      <td>20.380989</td>\n",
              "      <td>-38.898088</td>\n",
              "      <td>14.726570</td>\n",
              "      <td>-23.601381</td>\n",
              "      <td>-35.833416</td>\n",
              "      <td>-7.321320</td>\n",
              "      <td>17.097357</td>\n",
              "      <td>3.770694</td>\n",
              "      <td>11.036578</td>\n",
              "      <td>27.776525</td>\n",
              "      <td>10.991627</td>\n",
              "      <td>31.606386</td>\n",
              "      <td>30.001807</td>\n",
              "      <td>-18.656978</td>\n",
              "      <td>19.617903</td>\n",
              "      <td>-2.984820</td>\n",
              "      <td>26.730247</td>\n",
              "      <td>-26.439931</td>\n",
              "      <td>-7.776667</td>\n",
              "      <td>-12.967753</td>\n",
              "      <td>-24.221207</td>\n",
              "      <td>-14.701681</td>\n",
              "      <td>6.940082</td>\n",
              "      <td>36.002397</td>\n",
              "      <td>-14.174709</td>\n",
              "      <td>-32.868220</td>\n",
              "      <td>-7.199477</td>\n",
              "      <td>27.570449</td>\n",
              "      <td>27.295655</td>\n",
              "      <td>19.702725</td>\n",
              "      <td>11.785244</td>\n",
              "      <td>-23.742978</td>\n",
              "      <td>-2.947103</td>\n",
              "      <td>-17.340645</td>\n",
              "      <td>-0.966707</td>\n",
              "      <td>8.472075</td>\n",
              "    </tr>\n",
              "    <tr>\n",
              "      <th>4</th>\n",
              "      <td>-4.346224</td>\n",
              "      <td>-6.020968</td>\n",
              "      <td>-29.964214</td>\n",
              "      <td>-33.606428</td>\n",
              "      <td>18.092039</td>\n",
              "      <td>-31.288104</td>\n",
              "      <td>23.400398</td>\n",
              "      <td>42.908922</td>\n",
              "      <td>8.295971</td>\n",
              "      <td>28.432812</td>\n",
              "      <td>-22.014694</td>\n",
              "      <td>3.470299</td>\n",
              "      <td>42.693771</td>\n",
              "      <td>-23.371104</td>\n",
              "      <td>11.112865</td>\n",
              "      <td>12.081229</td>\n",
              "      <td>6.656588</td>\n",
              "      <td>-24.230129</td>\n",
              "      <td>-20.966290</td>\n",
              "      <td>23.316242</td>\n",
              "      <td>2.422574</td>\n",
              "      <td>20.638503</td>\n",
              "      <td>-7.663628</td>\n",
              "      <td>-3.826217</td>\n",
              "      <td>-21.143178</td>\n",
              "      <td>8.414028</td>\n",
              "      <td>17.295070</td>\n",
              "      <td>-14.615360</td>\n",
              "      <td>23.031948</td>\n",
              "      <td>-23.343913</td>\n",
              "      <td>30.122885</td>\n",
              "      <td>14.706272</td>\n",
              "      <td>12.905235</td>\n",
              "      <td>-21.816705</td>\n",
              "      <td>-1.195218</td>\n",
              "      <td>-34.765760</td>\n",
              "      <td>-7.680676</td>\n",
              "      <td>-11.097719</td>\n",
              "      <td>-0.954956</td>\n",
              "      <td>-12.481402</td>\n",
              "      <td>...</td>\n",
              "      <td>29.131792</td>\n",
              "      <td>9.856003</td>\n",
              "      <td>-23.068757</td>\n",
              "      <td>75.608846</td>\n",
              "      <td>39.480424</td>\n",
              "      <td>-40.436148</td>\n",
              "      <td>32.270328</td>\n",
              "      <td>18.258621</td>\n",
              "      <td>23.004216</td>\n",
              "      <td>-8.713921</td>\n",
              "      <td>25.111398</td>\n",
              "      <td>-32.955813</td>\n",
              "      <td>-34.467857</td>\n",
              "      <td>23.252699</td>\n",
              "      <td>3.389336</td>\n",
              "      <td>-0.954425</td>\n",
              "      <td>-22.752844</td>\n",
              "      <td>-11.206471</td>\n",
              "      <td>-22.584006</td>\n",
              "      <td>26.874589</td>\n",
              "      <td>55.388913</td>\n",
              "      <td>-27.846231</td>\n",
              "      <td>6.991503</td>\n",
              "      <td>-3.696194</td>\n",
              "      <td>-3.100328</td>\n",
              "      <td>-34.657598</td>\n",
              "      <td>-9.182156</td>\n",
              "      <td>15.050943</td>\n",
              "      <td>-12.779067</td>\n",
              "      <td>-24.270339</td>\n",
              "      <td>23.680270</td>\n",
              "      <td>31.254442</td>\n",
              "      <td>-20.526317</td>\n",
              "      <td>25.682225</td>\n",
              "      <td>15.391190</td>\n",
              "      <td>-22.186512</td>\n",
              "      <td>-56.351654</td>\n",
              "      <td>11.118192</td>\n",
              "      <td>33.060094</td>\n",
              "      <td>10.649537</td>\n",
              "    </tr>\n",
              "  </tbody>\n",
              "</table>\n",
              "<p>5 rows × 96 columns</p>\n",
              "</div>"
            ],
            "text/plain": [
              "          0          1          2   ...         93         94         95\n",
              "0 -12.331660  32.192578 -31.153167  ...  47.635584  20.500035  -9.600599\n",
              "1  12.865046  -0.361851 -48.085174  ...  93.085985  36.613139  33.741564\n",
              "2  78.324790  37.505413  -0.692790  ...   8.996112   8.212813  14.198789\n",
              "3  15.163575  25.522110  20.252827  ... -17.340645  -0.966707   8.472075\n",
              "4  -4.346224  -6.020968 -29.964214  ...  11.118192  33.060094  10.649537\n",
              "\n",
              "[5 rows x 96 columns]"
            ]
          },
          "metadata": {
            "tags": []
          },
          "execution_count": 140
        }
      ]
    },
    {
      "cell_type": "code",
      "metadata": {
        "id": "4nOQ4dWtAjWx",
        "colab": {
          "base_uri": "https://localhost:8080/",
          "height": 650
        },
        "outputId": "b6f5adac-4b3a-40ec-e3c2-a1651f4eeec1"
      },
      "source": [
        "df = df.drop(\"q1_feats_m\", axis=1)\n",
        "df = df.drop(\"q2_feats_m\", axis=1)\n",
        "df.head()"
      ],
      "execution_count": null,
      "outputs": [
        {
          "output_type": "execute_result",
          "data": {
            "text/html": [
              "<div>\n",
              "<style scoped>\n",
              "    .dataframe tbody tr th:only-of-type {\n",
              "        vertical-align: middle;\n",
              "    }\n",
              "\n",
              "    .dataframe tbody tr th {\n",
              "        vertical-align: top;\n",
              "    }\n",
              "\n",
              "    .dataframe thead th {\n",
              "        text-align: right;\n",
              "    }\n",
              "</style>\n",
              "<table border=\"1\" class=\"dataframe\">\n",
              "  <thead>\n",
              "    <tr style=\"text-align: right;\">\n",
              "      <th></th>\n",
              "      <th>id</th>\n",
              "      <th>qid1</th>\n",
              "      <th>qid2</th>\n",
              "      <th>question1</th>\n",
              "      <th>question2</th>\n",
              "      <th>is_duplicate</th>\n",
              "      <th>freq_qid1</th>\n",
              "      <th>freq_qid2</th>\n",
              "      <th>q1len</th>\n",
              "      <th>q2len</th>\n",
              "      <th>q1_n_words</th>\n",
              "      <th>q2_n_words</th>\n",
              "      <th>word_Common</th>\n",
              "      <th>word_Total</th>\n",
              "      <th>word_share</th>\n",
              "      <th>freq_q1+q2</th>\n",
              "      <th>freq_q1-q2</th>\n",
              "    </tr>\n",
              "  </thead>\n",
              "  <tbody>\n",
              "    <tr>\n",
              "      <th>0</th>\n",
              "      <td>0</td>\n",
              "      <td>1</td>\n",
              "      <td>2</td>\n",
              "      <td>What is the step by step guide to invest in sh...</td>\n",
              "      <td>What is the step by step guide to invest in sh...</td>\n",
              "      <td>0</td>\n",
              "      <td>1</td>\n",
              "      <td>1</td>\n",
              "      <td>66</td>\n",
              "      <td>57</td>\n",
              "      <td>14</td>\n",
              "      <td>12</td>\n",
              "      <td>10.0</td>\n",
              "      <td>23.0</td>\n",
              "      <td>0.434783</td>\n",
              "      <td>2</td>\n",
              "      <td>0</td>\n",
              "    </tr>\n",
              "    <tr>\n",
              "      <th>1</th>\n",
              "      <td>1</td>\n",
              "      <td>3</td>\n",
              "      <td>4</td>\n",
              "      <td>What is the story of Kohinoor (Koh-i-Noor) Dia...</td>\n",
              "      <td>What would happen if the Indian government sto...</td>\n",
              "      <td>0</td>\n",
              "      <td>1</td>\n",
              "      <td>1</td>\n",
              "      <td>51</td>\n",
              "      <td>88</td>\n",
              "      <td>8</td>\n",
              "      <td>13</td>\n",
              "      <td>4.0</td>\n",
              "      <td>20.0</td>\n",
              "      <td>0.200000</td>\n",
              "      <td>2</td>\n",
              "      <td>0</td>\n",
              "    </tr>\n",
              "    <tr>\n",
              "      <th>2</th>\n",
              "      <td>2</td>\n",
              "      <td>5</td>\n",
              "      <td>6</td>\n",
              "      <td>How can I increase the speed of my internet co...</td>\n",
              "      <td>How can Internet speed be increased by hacking...</td>\n",
              "      <td>0</td>\n",
              "      <td>1</td>\n",
              "      <td>1</td>\n",
              "      <td>73</td>\n",
              "      <td>59</td>\n",
              "      <td>14</td>\n",
              "      <td>10</td>\n",
              "      <td>4.0</td>\n",
              "      <td>24.0</td>\n",
              "      <td>0.166667</td>\n",
              "      <td>2</td>\n",
              "      <td>0</td>\n",
              "    </tr>\n",
              "    <tr>\n",
              "      <th>3</th>\n",
              "      <td>3</td>\n",
              "      <td>7</td>\n",
              "      <td>8</td>\n",
              "      <td>Why am I mentally very lonely? How can I solve...</td>\n",
              "      <td>Find the remainder when [math]23^{24}[/math] i...</td>\n",
              "      <td>0</td>\n",
              "      <td>1</td>\n",
              "      <td>1</td>\n",
              "      <td>50</td>\n",
              "      <td>65</td>\n",
              "      <td>11</td>\n",
              "      <td>9</td>\n",
              "      <td>0.0</td>\n",
              "      <td>19.0</td>\n",
              "      <td>0.000000</td>\n",
              "      <td>2</td>\n",
              "      <td>0</td>\n",
              "    </tr>\n",
              "    <tr>\n",
              "      <th>4</th>\n",
              "      <td>4</td>\n",
              "      <td>9</td>\n",
              "      <td>10</td>\n",
              "      <td>Which one dissolve in water quikly sugar, salt...</td>\n",
              "      <td>Which fish would survive in salt water?</td>\n",
              "      <td>0</td>\n",
              "      <td>1</td>\n",
              "      <td>1</td>\n",
              "      <td>76</td>\n",
              "      <td>39</td>\n",
              "      <td>13</td>\n",
              "      <td>7</td>\n",
              "      <td>2.0</td>\n",
              "      <td>20.0</td>\n",
              "      <td>0.100000</td>\n",
              "      <td>2</td>\n",
              "      <td>0</td>\n",
              "    </tr>\n",
              "  </tbody>\n",
              "</table>\n",
              "</div>"
            ],
            "text/plain": [
              "   id  qid1  qid2  ... word_share freq_q1+q2  freq_q1-q2\n",
              "0   0     1     2  ...   0.434783          2           0\n",
              "1   1     3     4  ...   0.200000          2           0\n",
              "2   2     5     6  ...   0.166667          2           0\n",
              "3   3     7     8  ...   0.000000          2           0\n",
              "4   4     9    10  ...   0.100000          2           0\n",
              "\n",
              "[5 rows x 17 columns]"
            ]
          },
          "metadata": {
            "tags": []
          },
          "execution_count": 141
        }
      ]
    },
    {
      "cell_type": "code",
      "metadata": {
        "id": "HmfZ5Q1zdMWl"
      },
      "source": [
        "# storing the final features to csv file\n",
        "if not os.path.isfile('final_features.csv'):\n",
        "    df_q1['id']=df['id']\n",
        "    df_q2['id']=df['id']\n",
        "    df  = df.merge(df_q1, on='id',how='left')\n",
        "    df  = df.merge(df_q2, on='id',how='left')\n",
        "    df.to_csv('final_features.csv')"
      ],
      "execution_count": null,
      "outputs": []
    },
    {
      "cell_type": "markdown",
      "metadata": {
        "id": "ZihvUPvHtARd"
      },
      "source": [
        "<h1>Machine Learning Models </h1>"
      ]
    },
    {
      "cell_type": "code",
      "metadata": {
        "id": "narFKZHx9uw2"
      },
      "source": [
        "y_true = df[\"is_duplicate\"].copy()\n",
        "df.drop(['id', 'qid2','qid1','question1','question2','is_duplicate'], axis=1, inplace=True)"
      ],
      "execution_count": null,
      "outputs": []
    },
    {
      "cell_type": "code",
      "metadata": {
        "id": "J1127WmhJnrw",
        "colab": {
          "base_uri": "https://localhost:8080/"
        },
        "outputId": "5ee71cd5-ccc1-429d-923f-89a81b18a3fe"
      },
      "source": [
        "y_true.count()"
      ],
      "execution_count": null,
      "outputs": [
        {
          "output_type": "execute_result",
          "data": {
            "text/plain": [
              "16"
            ]
          },
          "metadata": {
            "tags": []
          },
          "execution_count": 144
        }
      ]
    },
    {
      "cell_type": "markdown",
      "metadata": {
        "id": "CuMTqWGutASO"
      },
      "source": [
        "<h2>Random train test split( 70:30) </h2>"
      ]
    },
    {
      "cell_type": "code",
      "metadata": {
        "id": "fSOHNbn9MMCl"
      },
      "source": [
        "X_train,X_test, Y_train, Y_test = train_test_split(df,y_true,test_size=0.3,random_state=42)"
      ],
      "execution_count": null,
      "outputs": []
    },
    {
      "cell_type": "code",
      "metadata": {
        "id": "3Rat2obGtASP",
        "colab": {
          "base_uri": "https://localhost:8080/"
        },
        "outputId": "8ac63c17-ce91-4bef-a6a7-ebbbe32adcad"
      },
      "source": [
        "print(f\"Rows in train set(X): {len(X_train)}\\nRows in test set(X): {len(X_test)}\\n\")\n",
        "print(f\"Rows in train set(Y): {len(Y_train)}\\nRows in test set(Y): {len(Y_test)}\\n\")"
      ],
      "execution_count": null,
      "outputs": [
        {
          "output_type": "stream",
          "text": [
            "Rows in train set(X): 11\n",
            "Rows in test set(X): 5\n",
            "\n",
            "Rows in train set(Y): 11\n",
            "Rows in test set(Y): 5\n",
            "\n"
          ],
          "name": "stdout"
        }
      ]
    },
    {
      "cell_type": "markdown",
      "metadata": {
        "id": "UStQJ5F_tASk"
      },
      "source": [
        "<h2> Building a random model (Finding worst-case log-loss) </h2>"
      ]
    },
    {
      "cell_type": "code",
      "metadata": {
        "id": "0oDV15LJtASY",
        "colab": {
          "base_uri": "https://localhost:8080/"
        },
        "outputId": "0c26a830-9a10-4e24-a20d-f93f8f8a983e"
      },
      "source": [
        "print(\"-\"*10, \"Distribution of output variable in train data\", \"-\"*10)\n",
        "train_distr = Counter(Y_train)\n",
        "train_len = len(Y_train)\n",
        "print(\"Class 0: \",int(train_distr[0])/train_len,\"Class 1: \", int(train_distr[1])/train_len)\n",
        "print(\"-\"*10, \"Distribution of output variable in test data\", \"-\"*10)\n",
        "test_distr = Counter(Y_test)\n",
        "test_len = len(Y_test)\n",
        "print(\"Class 0: \",int(test_distr[1])/test_len, \"Class 1: \",int(test_distr[1])/test_len)"
      ],
      "execution_count": null,
      "outputs": [
        {
          "output_type": "stream",
          "text": [
            "---------- Distribution of output variable in train data ----------\n",
            "Class 0:  0.6363636363636364 Class 1:  0.36363636363636365\n",
            "---------- Distribution of output variable in test data ----------\n",
            "Class 0:  0.4 Class 1:  0.4\n"
          ],
          "name": "stdout"
        }
      ]
    },
    {
      "cell_type": "code",
      "metadata": {
        "id": "XfxcPT6jtASg"
      },
      "source": [
        "# This function plots the confusion matrices given y_i, y_i_hat.\n",
        "def plot_confusion_matrix(test_y, predict_y):\n",
        "    C = confusion_matrix(test_y, predict_y)\n",
        "    # C = 9,9 matrix, each cell (i,j) represents number of points of class i are predicted class j\n",
        "    \n",
        "    A =(((C.T)/(C.sum(axis=1))).T)\n",
        "    #divid each element of the confusion matrix with the sum of elements in that column\n",
        "    \n",
        "    # C = [[1, 2],\n",
        "    #     [3, 4]]\n",
        "    # C.T = [[1, 3],\n",
        "    #        [2, 4]]\n",
        "    # C.sum(axis = 1)  axis=0 corresonds to columns and axis=1 corresponds to rows in two diamensional array\n",
        "    # C.sum(axix =1) = [[3, 7]]\n",
        "    # ((C.T)/(C.sum(axis=1))) = [[1/3, 3/7]\n",
        "    #                           [2/3, 4/7]]\n",
        "\n",
        "    # ((C.T)/(C.sum(axis=1))).T = [[1/3, 2/3]\n",
        "    #                           [3/7, 4/7]]\n",
        "    # sum of row elements = 1\n",
        "    \n",
        "    B =(C/C.sum(axis=0))\n",
        "    #divid each element of the confusion matrix with the sum of elements in that row\n",
        "    # C = [[1, 2],\n",
        "    #     [3, 4]]\n",
        "    # C.sum(axis = 0)  axis=0 corresonds to columns and axis=1 corresponds to rows in two diamensional array\n",
        "    # C.sum(axix =0) = [[4, 6]]\n",
        "    # (C/C.sum(axis=0)) = [[1/4, 2/6],\n",
        "    #                      [3/4, 4/6]] \n",
        "    plt.figure(figsize=(20,4))\n",
        "    \n",
        "    labels = [1,2]\n",
        "    # representing A in heatmap format\n",
        "    cmap=sns.light_palette(\"blue\")\n",
        "    plt.subplot(1, 3, 1)\n",
        "    sns.heatmap(C, annot=True, cmap=cmap, fmt=\".3f\", xticklabels=labels, yticklabels=labels)\n",
        "    plt.xlabel('Predicted Class')\n",
        "    plt.ylabel('Original Class')\n",
        "    plt.title(\"Confusion matrix\")\n",
        "    \n",
        "    plt.subplot(1, 3, 2)\n",
        "    sns.heatmap(B, annot=True, cmap=cmap, fmt=\".3f\", xticklabels=labels, yticklabels=labels)\n",
        "    plt.xlabel('Predicted Class')\n",
        "    plt.ylabel('Original Class')\n",
        "    plt.title(\"Precision matrix\")\n",
        "    \n",
        "    plt.subplot(1, 3, 3)\n",
        "    # representing B in heatmap format\n",
        "    sns.heatmap(A, annot=True, cmap=cmap, fmt=\".3f\", xticklabels=labels, yticklabels=labels)\n",
        "    plt.xlabel('Predicted Class')\n",
        "    plt.ylabel('Original Class')\n",
        "    plt.title(\"Recall matrix\")\n",
        "    \n",
        "    plt.show()"
      ],
      "execution_count": null,
      "outputs": []
    },
    {
      "cell_type": "markdown",
      "metadata": {
        "id": "tuLfyhIFn6UP"
      },
      "source": [
        "##Random Model"
      ]
    },
    {
      "cell_type": "code",
      "metadata": {
        "id": "qwMDqcU7tASl",
        "colab": {
          "base_uri": "https://localhost:8080/",
          "height": 307
        },
        "outputId": "6ef28667-cf81-4390-ec6c-d935f16372d9"
      },
      "source": [
        "# we need to generate 9 numbers and the sum of numbers should be 1\n",
        "# one solution is to genarate 9 numbers and divide each of the numbers by their sum\n",
        "# ref: https://stackoverflow.com/a/18662466/4084039\n",
        "# we create a output array that has exactly same size as the CV data\n",
        "predicted_y = np.zeros((test_len,2))\n",
        "for i in range(test_len):\n",
        "    rand_probs = np.random.rand(1,2)\n",
        "    predicted_y[i] = ((rand_probs/sum(sum(rand_probs)))[0])\n",
        "print(\"Log loss on Test Data using Random Model\",log_loss(Y_test, predicted_y, eps=1e-15))\n",
        "\n",
        "predicted_y =np.argmax(predicted_y, axis=1)\n",
        "plot_confusion_matrix(Y_test, predicted_y)"
      ],
      "execution_count": null,
      "outputs": [
        {
          "output_type": "stream",
          "text": [
            "Log loss on Test Data using Random Model 0.9916017813365009\n"
          ],
          "name": "stdout"
        },
        {
          "output_type": "display_data",
          "data": {
            "image/png": "[encoded data removed]",
            "text/plain": [
              "<Figure size 1440x288 with 6 Axes>"
            ]
          },
          "metadata": {
            "tags": [],
            "needs_background": "light"
          }
        }
      ]
    },
    {
      "cell_type": "markdown",
      "metadata": {
        "id": "YgY29g_qtASq"
      },
      "source": [
        "<h2>Logistic Regression with hyperparameter tuning </h2>"
      ]
    },
    {
      "cell_type": "code",
      "metadata": {
        "id": "Wb2tOE3GtASr",
        "colab": {
          "base_uri": "https://localhost:8080/",
          "height": 749
        },
        "outputId": "c73af0c2-4e09-4d77-b568-75422b174b17"
      },
      "source": [
        "from sklearn.linear_model import SGDClassifier\n",
        "alpha = [10 ** x for x in range(-5, 2)] # hyperparam for SGD classifier.\n",
        "\n",
        "# read more about SGDClassifier() at http://scikit-learn.org/stable/modules/generated/sklearn.linear_model.SGDClassifier.html\n",
        "# ------------------------------\n",
        "# default parameters\n",
        "# SGDClassifier(loss=’hinge’, penalty=’l2’, alpha=0.0001, l1_ratio=0.15, fit_intercept=True, max_iter=None, tol=None, \n",
        "# shuffle=True, verbose=0, epsilon=0.1, n_jobs=1, random_state=None, learning_rate=’optimal’, eta0=0.0, power_t=0.5, \n",
        "# class_weight=None, warm_start=False, average=False, n_iter=None)\n",
        "\n",
        "# some of methods\n",
        "# fit(X, y[, coef_init, intercept_init, …])\tFit linear model with Stochastic Gradient Descent.\n",
        "# predict(X)\tPredict class labels for samples in X.\n",
        "\n",
        "#-------------------------------\n",
        "# video link: \n",
        "#------------------------------\n",
        "\n",
        "\n",
        "log_error_array=[]\n",
        "for i in alpha:\n",
        "    clf = SGDClassifier(alpha=i, penalty='l2', loss='log', random_state=42)\n",
        "    clf.fit(X_train, Y_train)\n",
        "    sig_clf = CalibratedClassifierCV(clf, method=\"sigmoid\")\n",
        "    sig_clf.fit(X_train, Y_train)\n",
        "    predict_y = sig_clf.predict_proba(X_test)\n",
        "    log_error_array.append(log_loss(Y_test, predict_y, labels=clf.classes_, eps=1e-15))\n",
        "    print('For values of alpha = ', i, \"The log loss is:\",log_loss(Y_test, predict_y, labels=clf.classes_, eps=1e-15))\n",
        "\n",
        "fig, ax = plt.subplots()\n",
        "ax.plot(alpha, log_error_array,c='g')\n",
        "for i, txt in enumerate(np.round(log_error_array,3)):\n",
        "    ax.annotate((alpha[i],np.round(txt,3)), (alpha[i],log_error_array[i]))\n",
        "plt.grid()\n",
        "plt.title(\"Cross Validation Error for each alpha\")\n",
        "plt.xlabel(\"Alpha i's\")\n",
        "plt.ylabel(\"Error measure\")\n",
        "plt.show()\n",
        "\n",
        "\n",
        "best_alpha = np.argmin(log_error_array)\n",
        "clf = SGDClassifier(alpha=alpha[best_alpha], penalty='l2', loss='log', random_state=42)\n",
        "clf.fit(X_train, Y_train)\n",
        "sig_clf = CalibratedClassifierCV(clf, method=\"sigmoid\")\n",
        "sig_clf.fit(X_train, Y_train)\n",
        "\n",
        "predict_y = sig_clf.predict_proba(X_train)\n",
        "print('For values of best alpha = ', alpha[best_alpha], \"The train log loss is:\",log_loss(Y_train, predict_y, labels=clf.classes_, eps=1e-15))\n",
        "predict_y = sig_clf.predict_proba(X_test)\n",
        "print('For values of best alpha = ', alpha[best_alpha], \"The test log loss is:\",log_loss(Y_test, predict_y, labels=clf.classes_, eps=1e-15))\n",
        "predicted_y =np.argmax(predict_y,axis=1)\n",
        "print(\"Total number of data points :\", len(predicted_y))\n",
        "plot_confusion_matrix(Y_test, predicted_y)"
      ],
      "execution_count": null,
      "outputs": [
        {
          "output_type": "stream",
          "text": [
            "For values of alpha =  1e-05 The log loss is: 0.6748593790099362\n",
            "For values of alpha =  0.0001 The log loss is: 0.7006002361706688\n",
            "For values of alpha =  0.001 The log loss is: 0.7006002361721287\n",
            "For values of alpha =  0.01 The log loss is: 0.673813804932397\n",
            "For values of alpha =  0.1 The log loss is: 0.6770934906421628\n",
            "For values of alpha =  1 The log loss is: 0.6648634671869136\n",
            "For values of alpha =  10 The log loss is: 0.6861251170358026\n"
          ],
          "name": "stdout"
        },
        {
          "output_type": "display_data",
          "data": {
            "image/png": "[encoded data removed]",
            "text/plain": [
              "<Figure size 432x288 with 1 Axes>"
            ]
          },
          "metadata": {
            "tags": [],
            "needs_background": "light"
          }
        },
        {
          "output_type": "stream",
          "text": [
            "For values of best alpha =  1 The train log loss is: 0.6919999309100764\n",
            "For values of best alpha =  1 The test log loss is: 0.6648634671869136\n",
            "Total number of data points : 5\n"
          ],
          "name": "stdout"
        },
        {
          "output_type": "display_data",
          "data": {
            "image/png": "[encoded data removed]",
            "text/plain": [
              "<Figure size 1440x288 with 6 Axes>"
            ]
          },
          "metadata": {
            "tags": [],
            "needs_background": "light"
          }
        }
      ]
    },
    {
      "cell_type": "markdown",
      "metadata": {
        "id": "ouQSEnr3tASy"
      },
      "source": [
        "<h2> Linear SVM with hyperparameter tuning </h2>"
      ]
    },
    {
      "cell_type": "code",
      "metadata": {
        "id": "AOFfZ5PLtAS0",
        "colab": {
          "base_uri": "https://localhost:8080/",
          "height": 749
        },
        "outputId": "a65cd78b-07dc-4172-9713-db2ffad94d60"
      },
      "source": [
        "alpha = [10 ** x for x in range(-5, 2)] # hyperparam for SGD classifier.\n",
        "\n",
        "# read more about SGDClassifier() at http://scikit-learn.org/stable/modules/generated/sklearn.linear_model.SGDClassifier.html\n",
        "# ------------------------------\n",
        "# default parameters\n",
        "# SGDClassifier(loss=’hinge’, penalty=’l2’, alpha=0.0001, l1_ratio=0.15, fit_intercept=True, max_iter=None, tol=None, \n",
        "# shuffle=True, verbose=0, epsilon=0.1, n_jobs=1, random_state=None, learning_rate=’optimal’, eta0=0.0, power_t=0.5, \n",
        "# class_weight=None, warm_start=False, average=False, n_iter=None)\n",
        "\n",
        "# some of methods\n",
        "# fit(X, y[, coef_init, intercept_init, …])\tFit linear model with Stochastic Gradient Descent.\n",
        "# predict(X)\tPredict class labels for samples in X.\n",
        "\n",
        "#-------------------------------\n",
        "# video link: \n",
        "#------------------------------\n",
        "\n",
        "\n",
        "log_error_array=[]\n",
        "for i in alpha:\n",
        "    clf = SGDClassifier(alpha=i, penalty='l1', loss='hinge', random_state=42)\n",
        "    clf.fit(X_train, Y_train)\n",
        "    sig_clf = CalibratedClassifierCV(clf, method=\"sigmoid\")\n",
        "    sig_clf.fit(X_train, Y_train)\n",
        "    predict_y = sig_clf.predict_proba(X_test)\n",
        "    log_error_array.append(log_loss(Y_test, predict_y, labels=clf.classes_, eps=1e-15))\n",
        "    print('For values of alpha = ', i, \"The log loss is:\",log_loss(Y_test, predict_y, labels=clf.classes_, eps=1e-15))\n",
        "\n",
        "fig, ax = plt.subplots()\n",
        "ax.plot(alpha, log_error_array,c='g')\n",
        "for i, txt in enumerate(np.round(log_error_array,3)):\n",
        "    ax.annotate((alpha[i],np.round(txt,3)), (alpha[i],log_error_array[i]))\n",
        "plt.grid()\n",
        "plt.title(\"Cross Validation Error for each alpha\")\n",
        "plt.xlabel(\"Alpha i's\")\n",
        "plt.ylabel(\"Error measure\")\n",
        "plt.show()\n",
        "\n",
        "\n",
        "best_alpha = np.argmin(log_error_array)\n",
        "clf = SGDClassifier(alpha=alpha[best_alpha], penalty='l1', loss='hinge', random_state=42)\n",
        "clf.fit(X_train, Y_train)\n",
        "sig_clf = CalibratedClassifierCV(clf, method=\"sigmoid\")\n",
        "sig_clf.fit(X_train, Y_train)\n",
        "\n",
        "predict_y = sig_clf.predict_proba(X_train)\n",
        "print('For values of best alpha = ', alpha[best_alpha], \"The train log loss is:\",log_loss(Y_train, predict_y, labels=clf.classes_, eps=1e-15))\n",
        "predict_y = sig_clf.predict_proba(X_test)\n",
        "print('For values of best alpha = ', alpha[best_alpha], \"The test log loss is:\",log_loss(Y_test, predict_y, labels=clf.classes_, eps=1e-15))\n",
        "predicted_y =np.argmax(predict_y,axis=1)\n",
        "print(\"Total number of data points :\", len(predicted_y))\n",
        "plot_confusion_matrix(Y_test, predicted_y)"
      ],
      "execution_count": null,
      "outputs": [
        {
          "output_type": "stream",
          "text": [
            "For values of alpha =  1e-05 The log loss is: 0.6748593790099362\n",
            "For values of alpha =  0.0001 The log loss is: 0.6748593790099362\n",
            "For values of alpha =  0.001 The log loss is: 0.6874470851758365\n",
            "For values of alpha =  0.01 The log loss is: 0.6537924347102788\n",
            "For values of alpha =  0.1 The log loss is: 0.6819465556667915\n",
            "For values of alpha =  1 The log loss is: 0.6984083545346313\n",
            "For values of alpha =  10 The log loss is: 0.6582449077079524\n"
          ],
          "name": "stdout"
        },
        {
          "output_type": "display_data",
          "data": {
            "image/png": "[encoded data removed]",
            "text/plain": [
              "<Figure size 432x288 with 1 Axes>"
            ]
          },
          "metadata": {
            "tags": [],
            "needs_background": "light"
          }
        },
        {
          "output_type": "stream",
          "text": [
            "For values of best alpha =  0.01 The train log loss is: 0.6879130261695198\n",
            "For values of best alpha =  0.01 The test log loss is: 0.6537924347102788\n",
            "Total number of data points : 5\n"
          ],
          "name": "stdout"
        },
        {
          "output_type": "display_data",
          "data": {
            "image/png": "[encoded data removed]",
            "text/plain": [
              "<Figure size 1440x288 with 6 Axes>"
            ]
          },
          "metadata": {
            "tags": [],
            "needs_background": "light"
          }
        }
      ]
    },
    {
      "cell_type": "markdown",
      "metadata": {
        "id": "ZhTJgclztAS6"
      },
      "source": [
        "<h2>XGBoost </h2>"
      ]
    },
    {
      "cell_type": "code",
      "metadata": {
        "id": "9U367-xetAS7",
        "colab": {
          "base_uri": "https://localhost:8080/"
        },
        "outputId": "56eae88e-83da-4281-a689-9acab84a61fb"
      },
      "source": [
        "import xgboost as xgb\n",
        "params = {}\n",
        "params['objective'] = 'binary:logistic'\n",
        "params['eval_metric'] = 'logloss'\n",
        "params['eta'] = 0.02\n",
        "params['max_depth'] = 4\n",
        "\n",
        "d_train = xgb.DMatrix(X_train, label=Y_train)\n",
        "d_test = xgb.DMatrix(X_test, label=Y_test)\n",
        "\n",
        "watchlist = [(d_train, 'train'), (d_test, 'valid')]\n",
        "\n",
        "bst = xgb.train(params, d_train, 400, watchlist, early_stopping_rounds=20, verbose_eval=10)\n",
        "\n",
        "xgdmat = xgb.DMatrix(X_train,Y_train)\n",
        "predict_y = bst.predict(d_test)\n",
        "print(\"The test log loss is:\",log_loss(Y_test, predict_y, labels=clf.classes_, eps=1e-15))"
      ],
      "execution_count": null,
      "outputs": [
        {
          "output_type": "stream",
          "text": [
            "[0]\ttrain-logloss:0.687402\tvalid-logloss:0.693955\n",
            "Multiple eval metrics have been passed: 'valid-logloss' will be used for early stopping.\n",
            "\n",
            "Will train until valid-logloss hasn't improved in 20 rounds.\n",
            "[10]\ttrain-logloss:0.636437\tvalid-logloss:0.7023\n",
            "[20]\ttrain-logloss:0.595283\tvalid-logloss:0.710882\n",
            "Stopping. Best iteration:\n",
            "[0]\ttrain-logloss:0.687402\tvalid-logloss:0.693955\n",
            "\n",
            "The test log loss is: 0.7108822703361511\n"
          ],
          "name": "stdout"
        }
      ]
    },
    {
      "cell_type": "code",
      "metadata": {
        "id": "6U5b17AatAS_",
        "colab": {
          "base_uri": "https://localhost:8080/",
          "height": 307
        },
        "outputId": "d4ca94bc-23d0-43ca-cb0f-ee867c3b21e3"
      },
      "source": [
        "predicted_y =np.array(predict_y>0.5,dtype=int)\n",
        "print(\"Total number of data points :\", len(predicted_y))\n",
        "plot_confusion_matrix(Y_test, predicted_y)"
      ],
      "execution_count": null,
      "outputs": [
        {
          "output_type": "stream",
          "text": [
            "Total number of data points : 5\n"
          ],
          "name": "stdout"
        },
        {
          "output_type": "display_data",
          "data": {
            "image/png": "[encoded data removed]",
            "text/plain": [
              "<Figure size 1440x288 with 6 Axes>"
            ]
          },
          "metadata": {
            "tags": [],
            "needs_background": "light"
          }
        }
      ]
    }
  ]
}